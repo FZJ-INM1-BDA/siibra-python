{
 "cells": [
  {
   "cell_type": "markdown",
   "metadata": {},
   "source": [
    "# Downloading parcellation and probability maps\n",
    "\n",
    "`siibra` can facilitate structured, automatized and reprodicible download of parcellation maps. In this example, we demonstrate how to download all maximum probability and probabilistic maps of *Julich-Brain* - more then 300 structures available in different spaces. \n",
    "\n",
    "As often, we start by loading the human atlas."
   ]
  },
  {
   "cell_type": "code",
   "execution_count": null,
   "metadata": {},
   "outputs": [],
   "source": [
    "import siibra\n",
    "atlas = siibra.atlases.MULTILEVEL_HUMAN_ATLAS"
   ]
  },
  {
   "cell_type": "markdown",
   "metadata": {},
   "source": [
    "Maps are delineations of brain regions in a particular coordinate space. We access regions from a parcellation object, and request maps by specifying the desired target space. In the simple case, we just fetch the first of possibly several labelled maps offered by the parcellation:"
   ]
  },
  {
   "cell_type": "code",
   "execution_count": null,
   "metadata": {},
   "outputs": [],
   "source": [
    "# request the parcellation object\n",
    "julichbrain = atlas.get_parcellation('julich')\n",
    "\n",
    "# request the map object for the desired space and type\n",
    "lmap = julichbrain.get_map(space=\"mni152\",maptype=\"labelled\")\n",
    "\n",
    "# fetch the (first available) actual image volume of this map. \n",
    "img = lmap.fetch()\n",
    "print(type(img))"
   ]
  },
  {
   "cell_type": "markdown",
   "metadata": {},
   "source": [
    "To fetch all available maps from the given parcellation, we iterate in two loops: \n",
    "\n",
    "- First loop: all available map types \n",
    "- Second loop: All maps that the parcellation defines for a given type"
   ]
  },
  {
   "cell_type": "code",
   "execution_count": null,
   "metadata": {},
   "outputs": [],
   "source": [
    "targetspace = atlas.get_space('mni152')\n",
    "\n",
    "for maptype in siibra.MapType:\n",
    "    \n",
    "    print(f\"Map type: {maptype.name}\")\n",
    "    \n",
    "    parcellation_map = julichbrain.get_map(targetspace,maptype)\n",
    "    fname_head = f\"{julichbrain.key}-{targetspace.key}-{maptype.name}\"\n",
    "\n",
    "    for mapindex,img in enumerate(parcellation_map.fetch_iter()):\n",
    "        \n",
    "        # Check if this mapindex represents a region or not. \n",
    "        # For Julich-Brain, this will be the case for the continuous map type, \n",
    "        # which represents the probability maps.\n",
    "        try:\n",
    "            region = parcellation_map.decode_label(mapindex=mapindex)\n",
    "            fname_tail = f\"{region.key}\"\n",
    "        except Exception:\n",
    "            fname_tail = f\"{mapindex:03d}\"\n",
    "\n",
    "        fname = siibra.commons.snake2camel(f\"{fname_head}-{fname_tail}.nii.gz\")\n",
    "        print(f\" - {fname}\")\n",
    "        img.to_filename(fname)\n",
    "        \n",
    "        # we stop after 5 maps in this example\n",
    "        if mapindex>4:\n",
    "            break"
   ]
  }
 ],
 "metadata": {
  "kernelspec": {
   "display_name": "Python 3",
   "language": "python",
   "name": "python3"
  },
  "language_info": {
   "codemirror_mode": {
    "name": "ipython",
    "version": 3
   },
   "file_extension": ".py",
   "mimetype": "text/x-python",
   "name": "python",
   "nbconvert_exporter": "python",
   "pygments_lexer": "ipython3",
   "version": "3.9.1"
  }
 },
 "nbformat": 4,
 "nbformat_minor": 4
}
