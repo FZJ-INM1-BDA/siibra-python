{
 "cells": [
  {
   "cell_type": "markdown",
   "metadata": {},
   "source": [
    "# Downloading parcellation and probability maps\n",
    "\n",
    "`siibra` can facilitate structured, automatized and reprodicible download of parcellation maps. In this example, we demonstrate how to download all maximum probability and probabilistic maps of *Julich-Brain* - more then 300 structures available in different spaces. \n",
    "\n",
    "As often, we start by loading the human atlas."
   ]
  },
  {
   "cell_type": "code",
   "execution_count": 1,
   "metadata": {},
   "outputs": [
    {
     "name": "stderr",
     "output_type": "stream",
     "text": [
      "[siibra:INFO] Version: 1.0a07\n",
      "[siibra:WARNING] This is a development release. Use at your own risk.\n",
      "[siibra:INFO] Please file bugs and issues at https://github.com/FZJ-INM1-BDA/siibra-python.\n",
      "Loading preconfigured Atlas instances: 100%|██████████| 4/4 [00:00<00:00, 478.58Atlas/s]\n"
     ]
    }
   ],
   "source": [
    "import siibra\n",
    "\n",
    "\n",
    "atlas = siibra.atlases.MULTILEVEL_HUMAN_ATLAS"
   ]
  },
  {
   "cell_type": "markdown",
   "metadata": {},
   "source": [
    "Maps are delineations of brain regions in a particular coordinate space. We access regions from a parcellation object, and request maps by specifying the desired target space. In the simple case, we just fetch the first of possibly several labelled maps offered by the parcellation:"
   ]
  },
  {
   "cell_type": "code",
   "execution_count": 2,
   "metadata": {},
   "outputs": [
    {
     "name": "stderr",
     "output_type": "stream",
     "text": [
      "Loading preconfigured Parcellation instances: 100%|██████████| 27/27 [00:00<00:00, 58.80Parcellation/s]\n",
      "[siibra:INFO] Multiple elements matched the specification 'julich' - the first in order was chosen: Julich-Brain Cytoarchitectonic Atlas (v3.0.3)\n",
      "Loading preconfigured Map instances:  86%|████████▌ | 50/58 [00:02<00:00, 37.68Map/s][siibra:WARNING] Non unique indices encountered in rat waxholmv1 01 labelled: {<MapIndex(volume=0, label=2, fragment=None)>}\n",
      "Loading preconfigured Map instances: 100%|██████████| 58/58 [00:02<00:00, 26.20Map/s]\n",
      "[siibra:WARNING] Map registry contains multiple classes: SparseMap, Map\n",
      "Loading preconfigured Space instances: 100%|██████████| 9/9 [00:00<00:00, 117.59Space/s]\n"
     ]
    },
    {
     "name": "stdout",
     "output_type": "stream",
     "text": [
      "<class 'nibabel.nifti1.Nifti1Image'>\n"
     ]
    }
   ],
   "source": [
    "# request the parcellation object\n",
    "julichbrain = atlas.get_parcellation(\"julich\")\n",
    "\n",
    "# request the map object for the desired space and type\n",
    "lmap = julichbrain.get_map(space=\"mni152\", maptype=\"labelled\")\n",
    "\n",
    "# fetch the (first available) actual image volume of this map.\n",
    "img = lmap.fetch()\n",
    "print(type(img))"
   ]
  },
  {
   "cell_type": "markdown",
   "metadata": {},
   "source": [
    "To fetch all available maps from the given parcellation, we iterate in two loops: \n",
    "\n",
    "- First loop: all available map types \n",
    "- Second loop: All maps that the parcellation defines for a given type"
   ]
  },
  {
   "cell_type": "code",
   "execution_count": 9,
   "metadata": {},
   "outputs": [
    {
     "name": "stdout",
     "output_type": "stream",
     "text": [
      "Map type: LABELLED\n",
      " - JulichBrainCytoarchitectonicAtlasV303-mni152Icbm2009cNonlinearAsymmetric-labelled-volume0-label0.nii.gz\n",
      " - JulichBrainCytoarchitectonicAtlasV303-mni152Icbm2009cNonlinearAsymmetric-labelled-volume0-label0.nii.gz\n",
      " - JulichBrainCytoarchitectonicAtlasV303-mni152Icbm2009cNonlinearAsymmetric-labelled-volume0-label0.nii.gz\n",
      " - JulichBrainCytoarchitectonicAtlasV303-mni152Icbm2009cNonlinearAsymmetric-labelled-volume0-label0.nii.gz\n",
      " - JulichBrainCytoarchitectonicAtlasV303-mni152Icbm2009cNonlinearAsymmetric-labelled-volume0-label0.nii.gz\n"
     ]
    },
    {
     "name": "stderr",
     "output_type": "stream",
     "text": [
      "[siibra:WARNING] Multiple maps are available in this specification of space, parcellation, and map type.\n",
      "Choosing the first map from ['mni152 jba30 157regions statistical', 'mni152 jba30 175regions statistical'].\n"
     ]
    },
    {
     "name": "stdout",
     "output_type": "stream",
     "text": [
      " - JulichBrainCytoarchitectonicAtlasV303-mni152Icbm2009cNonlinearAsymmetric-labelled-volume0-label0.nii.gz\n",
      "Map type: STATISTICAL\n"
     ]
    },
    {
     "name": "stderr",
     "output_type": "stream",
     "text": [
      "Loading sparse index: 100%|██████████| 1849162/1849162 [00:06<00:00, 298223.27voxels/s]\n"
     ]
    },
    {
     "name": "stdout",
     "output_type": "stream",
     "text": [
      " - JulichBrainCytoarchitectonicAtlasV303-mni152Icbm2009cNonlinearAsymmetric-statistical-volume0-label0.nii.gz\n",
      " - JulichBrainCytoarchitectonicAtlasV303-mni152Icbm2009cNonlinearAsymmetric-statistical-volume1-label1.nii.gz\n",
      " - JulichBrainCytoarchitectonicAtlasV303-mni152Icbm2009cNonlinearAsymmetric-statistical-volume2-label2.nii.gz\n",
      " - JulichBrainCytoarchitectonicAtlasV303-mni152Icbm2009cNonlinearAsymmetric-statistical-volume3-label3.nii.gz\n",
      " - JulichBrainCytoarchitectonicAtlasV303-mni152Icbm2009cNonlinearAsymmetric-statistical-volume4-label4.nii.gz\n",
      " - JulichBrainCytoarchitectonicAtlasV303-mni152Icbm2009cNonlinearAsymmetric-statistical-volume5-label5.nii.gz\n"
     ]
    }
   ],
   "source": [
    "targetspace = atlas.get_space(\"mni152\")\n",
    "\n",
    "for maptype in siibra.MapType:\n",
    "\n",
    "    print(f\"Map type: {maptype.name}\")\n",
    "\n",
    "    parcellation_map = julichbrain.get_map(targetspace, maptype)\n",
    "    fname_head = f\"{julichbrain.key}-{targetspace.key}-{maptype.name}\"\n",
    "\n",
    "    for i, region in enumerate(parcellation_map.regions):\n",
    "\n",
    "        # Check if this mapindex represents a region or not.\n",
    "        # For Julich-Brain, this will be the case for the continuous map type,\n",
    "        # which represents the probability maps.\n",
    "        try:\n",
    "            mapindex = parcellation_map.get_index(region)\n",
    "            img = parcellation_map.fetch(index=mapindex)\n",
    "            fname_tail = f\"{region.key}\"\n",
    "        except Exception:\n",
    "            fname_tail = f\"volume_{mapindex.volume}-label_{mapindex.volume}{f'-fragment_{mapindex.fragment}' if mapindex.fragment else ''}\"\n",
    "\n",
    "        fname = siibra.commons.snake2camel(f\"{fname_head}-{fname_tail}.nii.gz\")\n",
    "        print(f\" - {fname}\")\n",
    "        img.to_filename(fname)\n",
    "\n",
    "        # we stop after 5 maps in this example\n",
    "        if i > 4:\n",
    "            break"
   ]
  },
  {
   "cell_type": "code",
   "execution_count": null,
   "metadata": {},
   "outputs": [],
   "source": []
  }
 ],
 "metadata": {
  "kernelspec": {
   "display_name": "Python 3",
   "language": "python",
   "name": "python3"
  },
  "language_info": {
   "codemirror_mode": {
    "name": "ipython",
    "version": 3
   },
   "file_extension": ".py",
   "mimetype": "text/x-python",
   "name": "python",
   "nbconvert_exporter": "python",
   "pygments_lexer": "ipython3",
   "version": "3.9.15"
  }
 },
 "nbformat": 4,
 "nbformat_minor": 4
}
