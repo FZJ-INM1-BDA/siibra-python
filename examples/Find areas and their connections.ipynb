{
 "cells": [
  {
   "cell_type": "code",
   "execution_count": null,
   "metadata": {},
   "outputs": [],
   "source": [
    "import siibra\n",
    "from nilearn import plotting\n",
    "from IPython.display import display, Markdown"
   ]
  },
  {
   "cell_type": "markdown",
   "metadata": {},
   "source": [
    "### Define two points in MNI space\n",
    "\n",
    "We start by specifying some points in the reference space. Here, we use the MNI space. We can find such point, amongst other possibilities, by clicking them in the atlas viewer."
   ]
  },
  {
   "cell_type": "code",
   "execution_count": null,
   "metadata": {},
   "outputs": [],
   "source": [
    "# These are copy-pasted from the interactive atlas viewer:\n",
    "c1 = \"-25.650mm, -2.750mm, -33.750mm\"\n",
    "c2 = \"-37.350mm, -81.050mm, -6.300mm\""
   ]
  },
  {
   "cell_type": "code",
   "execution_count": null,
   "metadata": {},
   "outputs": [],
   "source": [
    "P1 = siibra.arrays.parse_coordinate_str(c1)\n",
    "P2 = siibra.arrays.parse_coordinate_str(c2)\n",
    "plotting.view_markers([P1,P2], ['red', 'cyan'], marker_size=10)  "
   ]
  },
  {
   "cell_type": "markdown",
   "metadata": {},
   "source": [
    "### Assign brain regions to the 3D points\n",
    "\n",
    "We assign the points to brain regions from the Julich-Brain cytoarchitectonic atlas, using a certain location tolerance of 5mm standard deviation."
   ]
  },
  {
   "cell_type": "code",
   "execution_count": null,
   "metadata": {},
   "outputs": [],
   "source": [
    "atlas = siibra.atlases['human']\n",
    "atlas.select(parcellation=\"julich\")\n",
    "regions1,regions2 = atlas.assign_coordinates(\"mni152\",[c1,c2],sigma_mm=5)"
   ]
  },
  {
   "cell_type": "markdown",
   "metadata": {},
   "source": [
    "Let's look at the most probable area found for each point."
   ]
  },
  {
   "cell_type": "code",
   "execution_count": null,
   "metadata": {},
   "outputs": [],
   "source": [
    "region1,statmap1,scores1 = regions1[0]\n",
    "region2,statmap2,scores2 = regions2[0]\n",
    "view1 = plotting.plot_stat_map(statmap1,title=f\"{region1.name} ({scores1['correlation']:.2f})\",cut_coords=P1)\n",
    "view2 = plotting.plot_stat_map(statmap2,title=f\"{region2.name} ({scores2['correlation']:.2f})\",cut_coords=P2)\n",
    "view1.add_markers([P1],['cyan'])\n",
    "view2.add_markers([P2],['cyan'])"
   ]
  },
  {
   "cell_type": "markdown",
   "metadata": {},
   "source": [
    "### Look for white matter bundles connecting the regions\n",
    "\n",
    "Next, we look at the most probable region associated to each point, considering them as a source and target region to investigate connectivity. In order to find white matter fibre bundles which are likely to connect them, we use the probability maps of the white matter fibre bundle parcellation, and assign both the source and target region from Julich-Brain to the fibre bundles. The intersection of the resulting bundles gives us those that are likely to provide connections from source to target."
   ]
  },
  {
   "cell_type": "code",
   "execution_count": null,
   "metadata": {},
   "outputs": [],
   "source": [
    "# get the probabilistic maps of long fibre bundles\n",
    "atlas.select(parcellation='long bundle')\n",
    "bundlemaps = atlas.selected_parcellation.get_map(\"mni152\",\"continuous\")\n",
    "\n",
    "# assign the source and target region to the bundles, \n",
    "# using their probability maps found above.\n",
    "bundles1 = bundlemaps.assign(statmap1,msg=f\"Find bundles touching {region1.name}\")\n",
    "bundles2 = bundlemaps.assign(statmap2,msg=f\"Find bundles touching {region2.name}\")\n",
    "                \n",
    "# intersect the two sets of related fiber bundles\n",
    "intersection = {\n",
    "    (b[0],b[1]) for b in bundles1+bundles2\n",
    "    if  any(b1[0]==b[0] for b1 in bundles1) \n",
    "    and any(b2[0]==b[0] for b2 in bundles2) }"
   ]
  },
  {
   "cell_type": "code",
   "execution_count": null,
   "metadata": {},
   "outputs": [],
   "source": [
    "# plot each of the bundles in the intersection (but no more than 3)\n",
    "for bundle,bundlemap in intersection:\n",
    "    view=plotting.plot_stat_map(bundlemap,\n",
    "                                title=f\"{region1.name} and {region2.name} connected by {bundle.name} \")\n",
    "    view.add_overlay(statmap1)\n",
    "    view.add_overlay(statmap2)\n",
    "    view.add_markers([P1,P2],['white'])"
   ]
  },
  {
   "cell_type": "markdown",
   "metadata": {},
   "source": [
    "We might want to inspect the scene in 3D using a more advanced viewer like napari."
   ]
  },
  {
   "cell_type": "code",
   "execution_count": null,
   "metadata": {},
   "outputs": [],
   "source": [
    "if False:\n",
    "    import napari\n",
    "    with napari.gui_qt():\n",
    "\n",
    "        # show the brain template\n",
    "        tpl = atlas.get_template(\"mni152\").fetch()\n",
    "        viewer = napari.view_image(tpl.dataobj,affine=tpl.affine,name=\"mni152\",\n",
    "            ndisplay=3,rgb=False,colormap='gray',rendering='average',opacity=.5)\n",
    "\n",
    "        # show the first region\n",
    "        viewer.add_image(statmap1.dataobj,affine=statmap1.affine,name=region1.name,\n",
    "            rgb=False, rendering='mip',colormap='blue',blending='additive',gamma=.4)\n",
    "\n",
    "        # show the second region\n",
    "        viewer.add_image(statmap2.dataobj,affine=statmap2.affine,name=region2.name,\n",
    "            rgb=False, rendering='mip',colormap='red',blending='additive',gamma=.4)\n",
    "\n",
    "        # show the bundle\n",
    "        viewer.add_image(bundlemap.dataobj,affine=bundlemap.affine,name=bundle.name,\n",
    "            rgb=False, rendering='mip',colormap='turbo',blending='additive',gamma=.4,contrast_limits=(30,100))\n",
    "\n",
    "        # show the original 3D points\n",
    "        viewer.add_points(data=[P1,P2],size=3)"
   ]
  },
  {
   "cell_type": "markdown",
   "metadata": {},
   "source": [
    "### Find connectivity in terms of streamlines from DTI\n",
    "\n",
    "We also investigate the connectivtiy of the two regions as measured by in-vivo imaging. To do so, we select the first region in the atlas, and search for connectivity profiles."
   ]
  },
  {
   "cell_type": "code",
   "execution_count": null,
   "metadata": {},
   "outputs": [],
   "source": [
    "# select the source region\n",
    "atlas.select(parcellation='julich',region=region1)\n",
    "with siibra.QUIET:\n",
    "    profiles = atlas.get_features(siibra.modalities.ConnectivityProfile)\n",
    "print(f\"Siibra found {len(profiles)} different connectivity profiles going out from {region1.name}:\")"
   ]
  },
  {
   "cell_type": "markdown",
   "metadata": {},
   "source": [
    "There are in general multiple features, so let's see which types of connectivity profiles have been found?"
   ]
  },
  {
   "cell_type": "code",
   "execution_count": null,
   "metadata": {},
   "outputs": [],
   "source": [
    "for i,p in enumerate(profiles):\n",
    "    print(f\"{i:3} - {p.src_name}\")"
   ]
  },
  {
   "cell_type": "markdown",
   "metadata": {},
   "source": [
    "We choose a structural connectivity profile, and decode the names of the connected regions."
   ]
  },
  {
   "cell_type": "code",
   "execution_count": null,
   "metadata": {},
   "outputs": [],
   "source": [
    "p = profiles[0]\n",
    "print(p.src_name)\n",
    "display(Markdown(p.src_info))\n",
    "with siibra.QUIET:\n",
    "    connections = p.decode(atlas.selected_parcellation)"
   ]
  },
  {
   "cell_type": "markdown",
   "metadata": {},
   "source": [
    "Create a bar plot of the connectivity profile, and identify the target region from above."
   ]
  },
  {
   "cell_type": "code",
   "execution_count": null,
   "metadata": {},
   "outputs": [],
   "source": [
    "import matplotlib.pyplot as plt\n",
    "%matplotlib inline\n",
    "\n",
    "i = [r for v,r in connections].index(region2)\n",
    "\n",
    "N = max(20,i)\n",
    "X = range(N)\n",
    "Y = [v for v,_ in connections[:N]]\n",
    "L = [r.name for v,r in connections[:N]]\n",
    "\n",
    "fig  = plt.figure(figsize=(12,4))\n",
    "ax1  = fig.add_subplot()\n",
    "ax1.set_xticks(X)\n",
    "ax1.set_xticklabels(L,rotation=60,ha='right')\n",
    "ax1.bar(X,Y,0.8)\n",
    "\n",
    "# where is region2?\n",
    "i = [r for v,r in connections].index(region2)\n",
    "ax1.bar(i,connections[i][0],0.9,color='r')\n",
    "\n",
    "fig.gca().set_title(f\"Connection strengths from area {region1.name}\")\n",
    "plt.show()"
   ]
  },
  {
   "cell_type": "code",
   "execution_count": null,
   "metadata": {},
   "outputs": [],
   "source": []
  }
 ],
 "metadata": {
  "kernelspec": {
   "display_name": "Python 3",
   "language": "python",
   "name": "python3"
  },
  "language_info": {
   "codemirror_mode": {
    "name": "ipython",
    "version": 3
   },
   "file_extension": ".py",
   "mimetype": "text/x-python",
   "name": "python",
   "nbconvert_exporter": "python",
   "pygments_lexer": "ipython3",
   "version": "3.9.1"
  }
 },
 "nbformat": 4,
 "nbformat_minor": 4
}
