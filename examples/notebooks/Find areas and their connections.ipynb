{
 "cells": [
  {
   "cell_type": "code",
   "execution_count": null,
   "metadata": {},
   "outputs": [],
   "source": [
    "import siibra\n",
    "from nilearn import plotting\n",
    "from IPython.display import display, Markdown"
   ]
  },
  {
   "cell_type": "markdown",
   "metadata": {},
   "source": [
    "### Define two points in MNI space\n",
    "\n",
    "We start by specifying some points in the reference space. Here, we use the MNI space. We can find such point, amongst other possibilities, by clicking them in the atlas viewer."
   ]
  },
  {
   "cell_type": "code",
   "execution_count": null,
   "metadata": {},
   "outputs": [],
   "source": [
    "# These are copy-pasted from the interactive atlas viewer:\n",
    "c1 = \"-25.650mm, -2.750mm, -33.750mm\"\n",
    "c2 = \"-37.350mm, -81.050mm, -6.300mm\""
   ]
  },
  {
   "cell_type": "code",
   "execution_count": null,
   "metadata": {},
   "outputs": [],
   "source": [
    "points = siibra.PointSet([c1,c2],'mni152')\n",
    "plotting.view_markers([tuple(p) for p in points], ['red', 'cyan'], marker_size=10)  "
   ]
  },
  {
   "cell_type": "markdown",
   "metadata": {},
   "source": [
    "### Assign brain regions to the 3D points\n",
    "\n",
    "We assign the points to brain regions from the Julich-Brain cytoarchitectonic atlas, using a certain location tolerance of 5mm standard deviation."
   ]
  },
  {
   "cell_type": "code",
   "execution_count": null,
   "metadata": {},
   "outputs": [],
   "source": [
    "atlas = siibra.atlases.MULTILEVEL_HUMAN_ATLAS\n",
    "julich_pmaps = atlas.get_map(\n",
    "    space=\"mni152\",\n",
    "    parcellation=\"julich 2.9\",\n",
    "    maptype=\"continuous\")\n",
    "assignments = julich_pmaps.assign_coordinates(points,sigma_mm=5)"
   ]
  },
  {
   "cell_type": "markdown",
   "metadata": {},
   "source": [
    "Let's look at the most probable area found for each point."
   ]
  },
  {
   "cell_type": "code",
   "execution_count": null,
   "metadata": {},
   "outputs": [],
   "source": [
    "point1, point2 = points\n",
    "region1, mapindex1, scores1 = assignments[0][0]\n",
    "region2, mapindex2, scores2 = assignments[1][0]\n",
    "regionmap1 = julich_pmaps.fetch(mapindex1)\n",
    "regionmap2 = julich_pmaps.fetch(mapindex2)\n",
    "\n",
    "view1 = plotting.plot_stat_map( \n",
    "    regionmap1, \n",
    "    cut_coords=tuple(point1),\n",
    "    title=f\"{region1.name} ({scores1['correlation']:.2f})\" \n",
    ")\n",
    "view1.add_markers([tuple(point1)],['cyan'])\n",
    "\n",
    "view2 = plotting.plot_stat_map( \n",
    "    regionmap2, \n",
    "    cut_coords=tuple(point2),\n",
    "    title=f\"{region2.name} ({scores2['correlation']:.2f})\"\n",
    ")\n",
    "view2.add_markers([tuple(point2)],['cyan'])"
   ]
  },
  {
   "cell_type": "markdown",
   "metadata": {},
   "source": [
    "### Look for white matter bundles connecting the regions\n",
    "\n",
    "Next, we look at the most probable region associated to each point, considering them as a source and target region to investigate connectivity. In order to find white matter fibre bundles which are likely to connect them, we use the probability maps of the white matter fibre bundle parcellation, and assign both the source and target region from Julich-Brain to the fibre bundles. The intersection of the resulting bundles gives us those that are likely to provide connections from source to target."
   ]
  },
  {
   "cell_type": "code",
   "execution_count": null,
   "metadata": {},
   "outputs": [],
   "source": [
    "# get the probabilistic maps of long fibre bundles\n",
    "bundlemaps = atlas.get_map(\"mni152\", \"long bundle\", \"continuous\")\n",
    "\n",
    "# assign the source and target region to the bundles, \n",
    "# using their probability maps found above.\n",
    "bundles1 = bundlemaps.assign(regionmap1, msg=f\"Bundles touching {region1.name}\")\n",
    "bundles2 = bundlemaps.assign(regionmap2, msg=f\"Bundles touching {region2.name}\")\n",
    "                \n",
    "# intersect the two sets of related fiber bundles\n",
    "intersection = {\n",
    "    (b[0],b[1]) for b in bundles1+bundles2\n",
    "    if  any(b1[0]==b[0] for b1 in bundles1) \n",
    "    and any(b2[0]==b[0] for b2 in bundles2) }"
   ]
  },
  {
   "cell_type": "code",
   "execution_count": null,
   "metadata": {},
   "outputs": [],
   "source": [
    "# plot each of the bundles in the intersection (but no more than 3)\n",
    "for bundle,bundlemapindex in intersection:\n",
    "    view=plotting.plot_stat_map(\n",
    "         bundlemaps.fetch(bundlemapindex),\n",
    "        title=f\"{region1.name} and {region2.name} connected by {bundle.name} \")\n",
    "    view.add_overlay(regionmap1)\n",
    "    view.add_overlay(regionmap2)\n",
    "    view.add_markers([tuple(p) for p in points],['white'])"
   ]
  },
  {
   "cell_type": "markdown",
   "metadata": {},
   "source": [
    "### Find connectivity in terms of streamlines from DTI\n",
    "\n",
    "We also investigate the connectivtiy of the two regions as measured by in-vivo imaging. To do so, we select the first region in the atlas, and search for connectivity profiles."
   ]
  },
  {
   "cell_type": "code",
   "execution_count": null,
   "metadata": {},
   "outputs": [],
   "source": [
    "# select the source region\n",
    "with siibra.QUIET:\n",
    "    profiles = siibra.get_features(region1, siibra.modalities.ConnectivityProfile)\n",
    "print(f\"Found {len(profiles)} different connectivity profiles going out from {region1.name}:\")"
   ]
  },
  {
   "cell_type": "markdown",
   "metadata": {},
   "source": [
    "There are in general multiple features, so let's see which types of connectivity profiles have been found?"
   ]
  },
  {
   "cell_type": "code",
   "execution_count": null,
   "metadata": {},
   "outputs": [],
   "source": [
    "for i,p in enumerate(profiles):\n",
    "    print(f\"{i:3} - {p.name}\")"
   ]
  },
  {
   "cell_type": "markdown",
   "metadata": {},
   "source": [
    "We choose a structural connectivity profile, and decode the names of the connected regions. To retreive deeper metadata for the dataset from the EBRAINS knowledge graph, we need an EBRAINS authentication token."
   ]
  },
  {
   "cell_type": "code",
   "execution_count": null,
   "metadata": {},
   "outputs": [],
   "source": [
    "with siibra.QUIET:\n",
    "    siibra.set_ebrains_token(input(\"Paste EBRAINS auth token:\"))"
   ]
  },
  {
   "cell_type": "code",
   "execution_count": null,
   "metadata": {},
   "outputs": [],
   "source": [
    "p = profiles[0]\n",
    "print(p.name)\n",
    "display(Markdown(p.description))\n",
    "with siibra.QUIET:\n",
    "    connections = p.decode(region1.parcellation)"
   ]
  },
  {
   "cell_type": "markdown",
   "metadata": {},
   "source": [
    "Create a bar plot of the connectivity profile, and identify the target region from above."
   ]
  },
  {
   "cell_type": "code",
   "execution_count": null,
   "metadata": {},
   "outputs": [],
   "source": [
    "import matplotlib.pyplot as plt\n",
    "%matplotlib inline\n",
    "\n",
    "i = [r for v,r in connections].index(region2)\n",
    "\n",
    "N = max(20,i)\n",
    "X = range(N)\n",
    "Y = [v for v,_ in connections[:N]]\n",
    "L = [r.name for v,r in connections[:N]]\n",
    "\n",
    "fig  = plt.figure(figsize=(12,4))\n",
    "ax1  = fig.add_subplot()\n",
    "ax1.set_xticks(X)\n",
    "ax1.set_xticklabels(L,rotation=60,ha='right')\n",
    "ax1.bar(X,Y,0.8)\n",
    "\n",
    "# where is region2?\n",
    "i = [r for v,r in connections].index(region2)\n",
    "ax1.bar(i,connections[i][0],0.9,color='r')\n",
    "\n",
    "fig.gca().set_title(f\"Connection strengths from area {region1.name}\")\n",
    "plt.show()"
   ]
  },
  {
   "cell_type": "code",
   "execution_count": null,
   "metadata": {},
   "outputs": [],
   "source": []
  }
 ],
 "metadata": {
  "kernelspec": {
   "display_name": "Python 3",
   "language": "python",
   "name": "python3"
  },
  "language_info": {
   "codemirror_mode": {
    "name": "ipython",
    "version": 3
   },
   "file_extension": ".py",
   "mimetype": "text/x-python",
   "name": "python",
   "nbconvert_exporter": "python",
   "pygments_lexer": "ipython3",
   "version": "3.9.1"
  }
 },
 "nbformat": 4,
 "nbformat_minor": 4
}
