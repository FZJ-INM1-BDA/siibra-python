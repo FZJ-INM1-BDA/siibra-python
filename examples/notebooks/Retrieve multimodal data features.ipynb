{
 "cells": [
  {
   "cell_type": "markdown",
   "metadata": {
    "slideshow": {
     "slide_type": "slide"
    }
   },
   "source": [
    "# Extracting multimodal data features\n",
    "\n",
    "`siibra` provides access to data features of different modalities using the `get_features` method, which accepts a feature modality and is sensitive to the selections configured in the atlas (parcellation, region). If not particular selection is made, `get_features` considers all brain regions of the current parcellation."
   ]
  },
  {
   "cell_type": "code",
   "execution_count": null,
   "metadata": {},
   "outputs": [],
   "source": [
    "import siibra\n",
    "from os import environ"
   ]
  },
  {
   "cell_type": "markdown",
   "metadata": {},
   "source": [
    "### 1. Setup `siibra` to connect to the EBRAINS Knowledge Graph access token\n",
    "\n",
    "`siibra` retrieves some data from the EBRAINS Knowledge Graph, which requires\n",
    "authentication. To do so, please follow these steps:\n",
    "\n",
    " 1. If you do not yet have an EBRAINS account, register [here](https://ebrains.eu/register). As you are reading this notebook in the EBRAINS collaboratory, this is most probably not necessary at this point.\n",
    " 2. Your EBRAINS account needs to be enabled for programmatic access to the EBRAINS Knowledge Graph to fetch metadata. This is formal step to acknowledge additional terms of use, and done quickly by emailing to the KG team. A link and template email to do so can be found right on top of the [Knowledge Graph developer page](https://kg.humanbrainproject.eu/develop.html).\n",
    " 3. Create an authentication token for EBRAINS by visiting\n",
    "[the EBRAINS authorization endpoint](https://nexus-iam.humanbrainproject.org/v0/oauth2/authorize). \n",
    " 4. Copy the token, and store it in the enviroment variable `HBP_AUTH_TOKEN` (just modify and execute the cell below accordingly).\n",
    "\n",
    "Note that as of now, you have to get a new token (steps 3. and 4.) approximately every day."
   ]
  },
  {
   "cell_type": "code",
   "execution_count": null,
   "metadata": {},
   "outputs": [],
   "source": [
    "with siibra.QUIET:\n",
    "    siibra.set_ebrains_token(input('Paste EBRAINS authentication token:'))"
   ]
  },
  {
   "cell_type": "markdown",
   "metadata": {},
   "source": [
    "### 2. Extract transmitter receptor densities\n",
    "\n",
    "Transmitter receptor density fingerprints are linked to brain regions by their name in the EBRAINS Knowledge Graph. Like any data feature, they are accessed using the `get_features` method of the atlas, which makes use of the current selection in the atlas. The `get_features` method knows from the specified data modality that the match is determined from the brain region identified. Receptor densities come as a nicely structured datatype. Amongst other things, they can visualize themselves in a plot.\n",
    "\n",
    "If we don't specify a particular selection, the atlas will return all available receptor density features linked to the parcellation map:"
   ]
  },
  {
   "cell_type": "code",
   "execution_count": null,
   "metadata": {},
   "outputs": [],
   "source": [
    "atlas = siibra.atlases.MULTILEVEL_HUMAN_ATLAS\n",
    "features = siibra.get_features(\n",
    "    atlas.get_parcellation('julich'),\n",
    "    siibra.modalities.ReceptorDistribution)\n",
    "print(\"Receptor density features found for the following regions:\")\n",
    "print(\", \".join({f.regionspec for f in features}))"
   ]
  },
  {
   "cell_type": "markdown",
   "metadata": {},
   "source": [
    "If we select a region, the returned list is filtered accordingly. "
   ]
  },
  {
   "cell_type": "code",
   "execution_count": null,
   "metadata": {},
   "outputs": [],
   "source": [
    "for r in siibra.get_features(atlas.get_region('v1'),'receptor'):\n",
    "    fig = r.plot(r.regionspec)"
   ]
  },
  {
   "cell_type": "markdown",
   "metadata": {},
   "source": [
    "### 3. Cell distributions\n",
    "\n",
    "This version of siibra provides a pre-release preview of layer-specific cell distributions in different areas of BigBrain."
   ]
  },
  {
   "cell_type": "code",
   "execution_count": null,
   "metadata": {},
   "outputs": [],
   "source": [
    "atlas = siibra.atlases['human']\n",
    "features = siibra.get_features(\n",
    "    atlas.get_region('V1','julich'),\n",
    "    siibra.modalities.CorticalCellDistribution)\n",
    "\n",
    "N = 2\n",
    "if N<len(features):\n",
    "    print(f\"Plotting only {N} of {len(features)} features.\")\n",
    "for f in features[:N]:\n",
    "    fig = f.plot(f.regionspec)\n"
   ]
  },
  {
   "cell_type": "markdown",
   "metadata": {
    "slideshow": {
     "slide_type": "slide"
    }
   },
   "source": [
    "### 4. Extracting Gene Expressions from the Allen Atlas \n",
    "\n",
    "The atlas client can make calls to gene expression data from the Allen atlas and evaluate them in the ICBM space to find regional gene expression levels. It also has a list of available gene names for convenient selection. Gene expressions are linked to atlas regions by coordinates of their probes in MNI space. The `get_features` method detects this from the feature modality, and applies the mask of the regions that are currently selected in the atlas to filter the probes. We can visualize these filtered locations."
   ]
  },
  {
   "cell_type": "code",
   "execution_count": null,
   "metadata": {},
   "outputs": [],
   "source": [
    "region = atlas.get_region(\"V1\")\n",
    "features = siibra.get_features(\n",
    "    region, \"gene expression\", \n",
    "    gene=siibra.features.gene_names.GABARAPL2)\n",
    "print(features[0])\n",
    "\n",
    "# Since gene expressions are spatial features,\n",
    "# let's check the reference space of the results.\n",
    "space =features[0].space\n",
    "assert(all(f.space==space for f in features))\n",
    "\n",
    "# plot\n",
    "from nilearn import plotting\n",
    "all_coords = [tuple(g.location) for g in features]\n",
    "mask = region.build_mask(space)\n",
    "display = plotting.plot_roi(mask)\n",
    "display.add_markers(all_coords,marker_size=5) "
   ]
  },
  {
   "cell_type": "markdown",
   "metadata": {
    "slideshow": {
     "slide_type": "slide"
    }
   },
   "source": [
    "### 5. Retrieving connectivity matrices\n",
    "For `siibra`, a connectivity matrix is a data feature like the others below, and can be found using the same `get_features` function just by choosing another modality. `siibra` knows from the modality type that this type of data does not match to the selected brain region in the atlas, but to the selected parcellation. Therefore, `get_features` return connectivity datasets that are defined for the selected parcellation. \n",
    "\n",
    "To learn about the nature of the provided connectivity, the `src_info` attribute provides a detailed description of the dataset. "
   ]
  },
  {
   "cell_type": "code",
   "execution_count": null,
   "metadata": {},
   "outputs": [],
   "source": [
    "# Get connectivity matrices available for a parcellation\n",
    "features = siibra.get_features(\n",
    "    atlas.get_parcellation(),\n",
    "    siibra.modalities.ConnectivityMatrix)\n",
    "\n",
    "# format dataset names for use as figure titles\n",
    "from textwrap import wrap\n",
    "titleformat = lambda text : \"\\n\".join(wrap(text.replace('_',' '),20)) \n",
    "\n",
    "# plot the matrices\n",
    "import numpy as np\n",
    "import matplotlib.pyplot as plt\n",
    "%matplotlib inline\n",
    "fig = plt.figure()\n",
    "for i,feature in enumerate(features):\n",
    "    ax = fig.add_subplot(1,len(features),i+1)\n",
    "    ax.imshow(np.log(feature.array),cmap=plt.cm.hot)\n",
    "    ax.set_title(titleformat(feature.name),size=10)\n",
    "fig.show()"
   ]
  },
  {
   "cell_type": "markdown",
   "metadata": {},
   "source": [
    "### 6. Retrieving iEEG electrodes and contact points\n",
    "\n",
    "iEEG data is queried per session/subject. The data is organized into multiple electrodes per session, and multiple contact points per electrode. Iterating over a session yields its electrodes. Iterating over each electrode yields its contact points. Each of these items are themselves of type `SpatialFeature`, so they have a `.location` and can be matched against an atlas. Below, we use this to visualize MNI coordinates of contact points which correspond to electrodes touching the selected region. We highlight the contact points inside the selected atlas region in red."
   ]
  },
  {
   "cell_type": "code",
   "execution_count": null,
   "metadata": {},
   "outputs": [],
   "source": [
    "region = atlas.get_region('V1 right')\n",
    "sessions = siibra.get_features(region, siibra.modalities.IEEG_Session)\n",
    "\n",
    "contactpoints = [contactpoint\n",
    "          for session in sessions\n",
    "          for electrode in session\n",
    "          for contactpoint in electrode\n",
    "          if electrode.match(region)]\n",
    "coords = [\n",
    "    tuple(cp.location) \n",
    "    for cp in contactpoints\n",
    "]\n",
    "colors = [\n",
    "    \"red\" if cp.match(region) else \"gray\" \n",
    "    for cp in contactpoints\n",
    "]\n",
    "\n",
    "from nilearn import plotting\n",
    "plotting.view_markers(coords,colors,marker_size=3)"
   ]
  },
  {
   "cell_type": "markdown",
   "metadata": {},
   "source": [
    "### 7. Retrieving other types of regional datasets from EBRAINS"
   ]
  },
  {
   "cell_type": "code",
   "execution_count": null,
   "metadata": {},
   "outputs": [],
   "source": [
    "region = atlas.get_region(\"fp1 right\")\n",
    "for f in siibra.get_features(region, \"ebrains\"):\n",
    "    print(f\"{f.name}\\n{f.url}\\n\")"
   ]
  },
  {
   "cell_type": "code",
   "execution_count": null,
   "metadata": {},
   "outputs": [],
   "source": []
  }
 ],
 "metadata": {
  "kernelspec": {
   "display_name": "Python 3",
   "language": "python",
   "name": "python3"
  },
  "language_info": {
   "codemirror_mode": {
    "name": "ipython",
    "version": 3
   },
   "file_extension": ".py",
   "mimetype": "text/x-python",
   "name": "python",
   "nbconvert_exporter": "python",
   "pygments_lexer": "ipython3",
   "version": "3.9.1"
  }
 },
 "nbformat": 4,
 "nbformat_minor": 5
}
