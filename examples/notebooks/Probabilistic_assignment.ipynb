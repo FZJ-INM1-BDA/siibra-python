{
 "cells": [
  {
   "cell_type": "code",
   "execution_count": null,
   "metadata": {},
   "outputs": [],
   "source": [
    "import siibra\n",
    "from nilearn import plotting"
   ]
  },
  {
   "cell_type": "markdown",
   "metadata": {},
   "source": [
    "# Assignment of an MNI coordinate to Julich-Brain probabilistic cytoarchitectonic maps\n",
    "`siibra` can use the probabilistic maps of the Julich-Brain cytorachitectonic atlas to make a probabilistic assignment of a coordinate with error radius (modelled as a Gaussian) to brain regions."
   ]
  },
  {
   "cell_type": "code",
   "execution_count": null,
   "metadata": {},
   "outputs": [],
   "source": [
    "# some coordinates  in MNI space, e.g. from an EEG contact\n",
    "points = siibra.PointSet([\n",
    "    (31.0, -89.6, -6.475),  # a real sEEG contact point\n",
    "    (27.75, -32.0, 63.725)    # this should be in PostCG, right hemisphere\n",
    "          ], space=\"mni152\")\n",
    "\n",
    "# a confidence radius for the coordinate, i.e. the expected localization error.\n",
    "radius_mm = 5"
   ]
  },
  {
   "cell_type": "markdown",
   "metadata": {},
   "source": [
    "We instantiate the human atlas with the Julich-brain probabilistic cytoarchitectonic maps, and then ask it to assign regions. It will return a sorted list of probabilities with the corresponding regions. "
   ]
  },
  {
   "cell_type": "code",
   "execution_count": null,
   "metadata": {},
   "outputs": [],
   "source": [
    "atlas = siibra.atlases.MULTILEVEL_HUMAN_ATLAS\n",
    "julich_pmaps = atlas.get_map(\n",
    "    space=\"mni152\", \n",
    "    parcellation=\"julich\",\n",
    "    maptype=\"continuous\")\n",
    "assignments = julich_pmaps.assign_coordinates(points,radius_mm)"
   ]
  },
  {
   "cell_type": "markdown",
   "metadata": {},
   "source": [
    "We look at the best fitting maps at the first requested location."
   ]
  },
  {
   "cell_type": "code",
   "execution_count": null,
   "metadata": {},
   "outputs": [],
   "source": [
    "for region, mapindex, scores in assignments[0]:\n",
    "    if scores['contains']>.5: \n",
    "        plotting.plot_stat_map(\n",
    "            julich_pmaps.fetch(mapindex), \n",
    "            cut_coords=tuple(points[0]),\n",
    "            title=f\"{region.name} ({scores['contains']*100:.1f}%)\"\n",
    "        )"
   ]
  },
  {
   "cell_type": "markdown",
   "metadata": {},
   "source": [
    "# Connectivity profiles of the most probable brain region\n",
    "\n",
    "`siibra`'s key feature is access to regional data features, including connectivity profiles from different projects. This can be used to check the connection strengh of the most likely region assignment to the MNI coordinate."
   ]
  },
  {
   "cell_type": "code",
   "execution_count": null,
   "metadata": {},
   "outputs": [],
   "source": [
    "# get profiles for the top assigned region \n",
    "closest_region, mapindex, scores = next(iter(assignments[0]))\n",
    "profiles = siibra.get_features(\n",
    "    closest_region,\n",
    "    siibra.modalities.ConnectivityProfile)"
   ]
  },
  {
   "cell_type": "markdown",
   "metadata": {},
   "source": [
    "We will create plots of the connection strength to the 20 most strongly connected regions, for each of the returned profiles. Note that the profiles come from different connectivity datasets. The `src_info` and `src_name` attributes tell us more about each dataset.\n",
    "\n",
    "First, we decode the profiles with the parcellation object. This will convert the column names of the connectivity profile to explicit brain region objects, helping to disambiguiate region names."
   ]
  },
  {
   "cell_type": "code",
   "execution_count": null,
   "metadata": {},
   "outputs": [],
   "source": [
    "with siibra.QUIET:\n",
    "    decoded_profiles = [\n",
    "        p.decode(closest_region.parcellation)\n",
    "        for p in profiles]\n",
    "p = decoded_profiles[0]\n",
    "target_regions = [region for strength,region in p[:20]]\n",
    "target_regions"
   ]
  },
  {
   "cell_type": "markdown",
   "metadata": {},
   "source": [
    "We build a plotting function for the decoded profiles, which takes the N most strongly connected regions of the first profile, and then plots the connection strengths of all found profiles for those N target regions."
   ]
  },
  {
   "cell_type": "code",
   "execution_count": null,
   "metadata": {},
   "outputs": [],
   "source": [
    "import matplotlib.pyplot as plt\n",
    "%matplotlib inline\n",
    "\n",
    "# a function to create a nice plot of multiple profiles from different\n",
    "# data sources\n",
    "def plot_connectivity_profiles(profiles,target_regions):\n",
    "    # Let's plot the so obtained regions and their strenghts\n",
    "    N = len(target_regions)\n",
    "    xticks = range(N)\n",
    "    fig  = plt.figure()\n",
    "    ax1  = fig.add_subplot(211)\n",
    "    ax1.set_xticks(xticks)\n",
    "    ax1.set_xticklabels(\n",
    "        [r.name for r in target_regions], \n",
    "        rotation=45, fontsize=10, ha='right')\n",
    "    \n",
    "    for p in profiles:\n",
    "        probs = {region:prob for prob,region in p}\n",
    "        y = [probs[r] if r in probs else 0 \n",
    "             for r in target_regions ]\n",
    "        strengths = []\n",
    "        ax1.plot(xticks,y,'.-',lw=1)\n",
    "\n",
    "    ax1.grid(True)\n",
    "    return fig"
   ]
  },
  {
   "cell_type": "code",
   "execution_count": null,
   "metadata": {},
   "outputs": [],
   "source": [
    "fig = plot_connectivity_profiles(decoded_profiles,target_regions)\n",
    "fig.legend([p.name for p in profiles],\n",
    "           loc='upper left', bbox_to_anchor=(1.05, 1.0),\n",
    "           prop={'size': 9})\n",
    "fig.gca().set_title(f\"Connection strengths from area {closest_region.name}\")\n",
    "plt.show()"
   ]
  },
  {
   "cell_type": "code",
   "execution_count": null,
   "metadata": {},
   "outputs": [],
   "source": []
  }
 ],
 "metadata": {
  "kernelspec": {
   "display_name": "Python 3",
   "language": "python",
   "name": "python3"
  },
  "language_info": {
   "codemirror_mode": {
    "name": "ipython",
    "version": 3
   },
   "file_extension": ".py",
   "mimetype": "text/x-python",
   "name": "python",
   "nbconvert_exporter": "python",
   "pygments_lexer": "ipython3",
   "version": "3.9.1"
  }
 },
 "nbformat": 4,
 "nbformat_minor": 4
}
