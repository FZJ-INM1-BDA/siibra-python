{
 "cells": [
  {
   "cell_type": "code",
   "execution_count": null,
   "metadata": {},
   "outputs": [],
   "source": [
    "import siibra\n",
    "import numpy as np\n",
    "from nilearn import plotting"
   ]
  },
  {
   "cell_type": "code",
   "execution_count": null,
   "metadata": {},
   "outputs": [],
   "source": [
    "difumo64,longbundles,jubrain = [\n",
    "    siibra.parcellations[n] \n",
    "    for n in [\"difumo64\",\"long bundles\",\"julich\"]]\n",
    "\n",
    "funcmap,bundlemap,cytomap = [\n",
    "    p.get_map(\"mni152\",\"continuous\") \n",
    "    for p in [difumo64,longbundles,jubrain]]"
   ]
  },
  {
   "cell_type": "code",
   "execution_count": null,
   "metadata": {},
   "outputs": [],
   "source": [
    "funcindex = 1\n",
    "funcregionmap = funcmap.fetch(mapindex=funcindex)\n",
    "funcregion = funcmap.decode_label(mapindex=funcindex)\n",
    "plotting.plot_stat_map(funcregionmap,title=f\"Source: {funcregion.name}\")\n",
    "\n",
    "assignments = cytomap.assign(funcregionmap)\n",
    "for region,pmap,scores in assignments:\n",
    "    if scores['overlap']>=0.1:\n",
    "        view = plotting.plot_stat_map(pmap,\n",
    "            title=f\"Target: {region.name} ({scores['overlap']*100:.1f}%)\")\n",
    "        view.add_contours(funcregionmap)"
   ]
  },
  {
   "cell_type": "code",
   "execution_count": null,
   "metadata": {},
   "outputs": [],
   "source": [
    "overlaps = np.zeros((len(funcmap),len(bundlemap)))\n",
    "\n",
    "for funcindex,funcregionmap in enumerate(funcmap.fetch_iter()):\n",
    "    funcregion = funcmap.decode_label(funcindex)\n",
    "    assignments = bundlemap.assign(funcregionmap,\n",
    "                                   msg=f\"{funcindex+1:2d}/{len(funcmap):2d}: {funcregion.name:30.30}\")\n",
    "    for bundleregion,pmap,scores in assignments:\n",
    "        bundleindex = bundlemap.decode_region(bundleregion)[0].map\n",
    "        overlaps[funcindex,bundleindex] = scores['overlap']"
   ]
  },
  {
   "cell_type": "code",
   "execution_count": null,
   "metadata": {},
   "outputs": [],
   "source": [
    "import matplotlib.pyplot as plt\n",
    "%matplotlib inline\n",
    "\n",
    "fig = plt.figure(figsize=(12, 16),)\n",
    "ax  = fig.add_subplot(211)\n",
    "ax.imshow(overlaps.T,interpolation='nearest',cmap='gray_r')\n",
    "\n",
    "bundlenames = [bundlemap.decode_label(i).name for i in range(len(bundlemap))]\n",
    "ax.set_yticks(range(len(bundlenames)))\n",
    "ax.set_yticklabels(bundlenames)\n",
    "\n",
    "areanames = [funcmap.decode_label(i).name for i in range(len(funcmap))]\n",
    "ax.set_xticks(range(len(areanames)))\n",
    "ax.set_xticklabels(areanames,rotation=90,fontsize=10)\n",
    "ax.grid(True)\n",
    "pass"
   ]
  },
  {
   "cell_type": "code",
   "execution_count": null,
   "metadata": {},
   "outputs": [],
   "source": []
  }
 ],
 "metadata": {
  "kernelspec": {
   "display_name": "Python 3",
   "language": "python",
   "name": "python3"
  },
  "language_info": {
   "codemirror_mode": {
    "name": "ipython",
    "version": 3
   },
   "file_extension": ".py",
   "mimetype": "text/x-python",
   "name": "python",
   "nbconvert_exporter": "python",
   "pygments_lexer": "ipython3",
   "version": "3.9.1"
  }
 },
 "nbformat": 4,
 "nbformat_minor": 4
}
