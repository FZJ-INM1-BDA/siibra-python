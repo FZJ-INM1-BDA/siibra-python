{
 "cells": [
  {
   "cell_type": "markdown",
   "metadata": {},
   "source": [
    "# Accessing BigBrain data using siibra\n",
    "\n",
    "The multilevel human atlas supports multiple reference spaces. The BigBrain model, a microscopic resolution template,is a dataset in the Terabyte range at its full resolution of 20 micrometer, and cannot be handled in the same way than MRI-scale template like the ICBM 152 template. To work with its whole brain anatomy, a downsampled version is reasonable, while for appreciating the cortical layers a highe resolution makes sense. To extract grayvalue statistics, the full resolution can be accessed for regions of interest.\n",
    "\n",
    "The best way to interactively explore the BigBrain in full detail is to use the [siibra explorer](https://bigbrain.humanbrainproject.eu) using your webbrowser. In this notebook we show some ways of working with BigBrain using only the Python interface of `siibra`.\n",
    "\n",
    "We start by loading the `siibra` library."
   ]
  },
  {
   "cell_type": "code",
   "execution_count": 1,
   "metadata": {},
   "outputs": [
    {
     "name": "stderr",
     "output_type": "stream",
     "text": [
      "[siibra:INFO]  Version: 0.1a7\n",
      "[siibra:WARNING]  This is a development release. Use at your own risk. Please file bugs and issues at https://github.com/FZJ-INM1-BDA/siibra-python.\n",
      "Retrieving configuration 'siibra-0.1a7' for spaces         : 100%|██████████| 8/8 [00:00<00:00, 2970.47 files/s]\n",
      "Retrieving configuration 'siibra-0.1a7' for parcellations  : 100%|██████████| 20/20 [00:00<00:00, 282.12 files/s]\n",
      "Retrieving configuration 'siibra-0.1a7' for atlases        : 100%|██████████| 3/3 [00:00<00:00, 2629.66 files/s]\n"
     ]
    }
   ],
   "source": [
    "import siibra\n",
    "from nilearn import plotting,image"
   ]
  },
  {
   "cell_type": "markdown",
   "metadata": {},
   "source": [
    "### Load the BigBrain whole-brain template\n",
    "\n",
    "Next we instantiate the human atlas and retrieve the BigBrain template. `siibra` automatically selects the highest resolution that is feasible for download if we do not specify a target resolution. It creates a nibabel SpatialImage object, just as if a Nifti file had been loaded."
   ]
  },
  {
   "cell_type": "code",
   "execution_count": 2,
   "metadata": {},
   "outputs": [
    {
     "data": {
      "text/plain": [
       "(nibabel.nifti1.Nifti1Image, (103, 116, 90, 1))"
      ]
     },
     "execution_count": 2,
     "metadata": {},
     "output_type": "execute_result"
    }
   ],
   "source": [
    "template = siibra.spaces.BIG_BRAIN.get_template().fetch()\n",
    "type(template), template.shape"
   ]
  },
  {
   "cell_type": "markdown",
   "metadata": {},
   "source": [
    "We could try a higher resolution, but `siibra` will refuse if this resolution is not available or leads to very large data volumes. Note: You can disable this restriction by using `force=True` parameter."
   ]
  },
  {
   "cell_type": "code",
   "execution_count": 3,
   "metadata": {},
   "outputs": [
    {
     "name": "stderr",
     "output_type": "stream",
     "text": [
      "[siibra:ERROR]  Data request is too large (would result in an ~258.81 GByte download, the limit is 0.5).\n"
     ]
    },
    {
     "name": "stdout",
     "output_type": "stream",
     "text": [
      " 0.0200 mm   258.8071 GByte\n",
      " 0.0400 mm    32.3566 GByte\n",
      " 0.0800 mm     4.0446 GByte\n",
      " 0.1600 mm     0.5062 GByte\n",
      " 0.3200 mm     0.0633 GByte\n",
      " 0.6400 mm     0.0080 GByte\n",
      " 1.2800 mm     0.0010 GByte\n"
     ]
    }
   ],
   "source": [
    "try: \n",
    "    siibra.spaces.BIG_BRAIN.get_template().fetch(resolution_mm=0.02)\n",
    "except RuntimeError as e:\n",
    "    pass"
   ]
  },
  {
   "cell_type": "markdown",
   "metadata": {},
   "source": [
    "### Accessing BigBrain native maps\n",
    "\n",
    "BigBrain comes with a growing number of highly detailed 3D cytoarchitectonic maps that have been generated at the full microscopic resolution, sometimes composed of individual 2D maps in more than a thousand histological sections. As oppposed to the probabilistic cytoarchitectonic maps defined in the MNI spaces, these are individual subject maps and do not capture intersubject variability."
   ]
  },
  {
   "cell_type": "code",
   "execution_count": 4,
   "metadata": {},
   "outputs": [
    {
     "name": "stderr",
     "output_type": "stream",
     "text": [
      "[siibra:INFO]  Select \"BigBrain Cortical Layers\"\n"
     ]
    }
   ],
   "source": [
    "atlas = siibra.atlases.MULTILEVEL_HUMAN_ATLAS\n",
    "atlas.select_parcellation(\"cortical layers\")\n",
    "layers = atlas.get_map(\"bigbrain\").fetch(resolution_mm=0.32)"
   ]
  },
  {
   "cell_type": "code",
   "execution_count": 5,
   "metadata": {},
   "outputs": [],
   "source": [
    "# shortcut for plotting rois on top of this template\n",
    "plot_roi = lambda img,title : plotting.view_img(\n",
    "    img, bg_img=template,\n",
    "    title=title,\n",
    "    resampling_interpolation='nearest',\n",
    "    symmetric_cmap=False,cmap='Paired')"
   ]
  },
  {
   "cell_type": "code",
   "execution_count": null,
   "metadata": {},
   "outputs": [],
   "source": [
    "plot_roi(layers,\"Layer masks\")"
   ]
  },
  {
   "cell_type": "markdown",
   "metadata": {},
   "source": [
    "We can select regions from the maps to retrieve masks of particular regions. Here, we retrieve a mask of only layer III of BigBrain."
   ]
  },
  {
   "cell_type": "code",
   "execution_count": null,
   "metadata": {
    "scrolled": true
   },
   "outputs": [],
   "source": [
    "atlas.select_region(\"3\")\n",
    "layermask = atlas.build_mask(\"bigbrain\")\n",
    "plot_roi(layermask,\"Layer III\")"
   ]
  },
  {
   "cell_type": "markdown",
   "metadata": {},
   "source": [
    "In a similar fashion, we can retrieve a mask of a cortical cytoarchitectonic area:"
   ]
  },
  {
   "cell_type": "code",
   "execution_count": null,
   "metadata": {},
   "outputs": [],
   "source": [
    "atlas.select_parcellation(siibra.parcellations['julich'])\n",
    "atlas.select_region(\"hOc3v\")\n",
    "regionmask = atlas.build_mask(\"bigbrain\",resolution_mm=0.32)\n",
    "plot_roi(regionmask,\"Area hOc3v\")"
   ]
  },
  {
   "cell_type": "code",
   "execution_count": null,
   "metadata": {},
   "outputs": [],
   "source": []
  }
 ],
 "metadata": {
  "kernelspec": {
   "display_name": "Python 3",
   "language": "python",
   "name": "python3"
  },
  "language_info": {
   "codemirror_mode": {
    "name": "ipython",
    "version": 3
   },
   "file_extension": ".py",
   "mimetype": "text/x-python",
   "name": "python",
   "nbconvert_exporter": "python",
   "pygments_lexer": "ipython3",
   "version": "3.9.1"
  }
 },
 "nbformat": 4,
 "nbformat_minor": 4
}
