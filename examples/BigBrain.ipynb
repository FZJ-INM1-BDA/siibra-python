{
 "cells": [
  {
   "cell_type": "markdown",
   "metadata": {},
   "source": [
    "# Accessing BigBrain data using siibra\n",
    "\n",
    "The multilevel human atlas supports multiple reference spaces. The BigBrain model, a microscopic resolution template,is a dataset in the Terabyte range at its full resolution of 20 micrometer, and cannot be handled in the same way than MRI-scale template like the ICBM 152 template. To work with its whole brain anatomy, a downsampled version is reasonable, while for appreciating the cortical layers a highe resolution makes sense. To extract grayvalue statistics, the full resolution can be accessed for regions of interest.\n",
    "\n",
    "The best way to interactively explore the BigBrain in full detail is to use the [siibra explorer](https://bigbrain.humanbrainproject.eu) using your webbrowser. In this notebook we show some ways of working with BigBrain using only the Python interface of `siibra`.\n",
    "\n",
    "We start by loading the `siibra` library."
   ]
  },
  {
   "cell_type": "code",
   "execution_count": null,
   "metadata": {},
   "outputs": [],
   "source": [
    "import siibra\n",
    "from nilearn import plotting,image"
   ]
  },
  {
   "cell_type": "markdown",
   "metadata": {},
   "source": [
    "### Load the BigBrain whole-brain template\n",
    "\n",
    "Next we instantiate the human atlas and retrieve the BigBrain template. `siibra` automatically selects the highest resolution that is feasible for download if we do not specify a target resolution. It creates a nibabel SpatialImage object, just as if a Nifti file had been loaded."
   ]
  },
  {
   "cell_type": "code",
   "execution_count": null,
   "metadata": {},
   "outputs": [],
   "source": [
    "template = siibra.spaces.BIG_BRAIN.get_template().fetch()\n",
    "type(template), template.shape"
   ]
  },
  {
   "cell_type": "markdown",
   "metadata": {},
   "source": [
    "We could try a higher resolution, but `siibra` will refuse if this resolution is not available or leads to very large data volumes. Note: You can disable this restriction by using `force=True` parameter."
   ]
  },
  {
   "cell_type": "code",
   "execution_count": null,
   "metadata": {},
   "outputs": [],
   "source": [
    "try: \n",
    "    siibra.spaces.BIG_BRAIN.get_template().fetch(resolution_mm=0.02)\n",
    "except RuntimeError as e:\n",
    "    pass"
   ]
  },
  {
   "cell_type": "markdown",
   "metadata": {},
   "source": [
    "### Accessing BigBrain native maps\n",
    "\n",
    "BigBrain comes with a growing number of highly detailed 3D cytoarchitectonic maps that have been generated at the full microscopic resolution, sometimes composed of individual 2D maps in more than a thousand histological sections. As oppposed to the probabilistic cytoarchitectonic maps defined in the MNI spaces, these are individual subject maps and do not capture intersubject variability."
   ]
  },
  {
   "cell_type": "code",
   "execution_count": null,
   "metadata": {},
   "outputs": [],
   "source": [
    "# shortcut for plotting rois on top of this template\n",
    "def plot_roi(img, title): \n",
    "    return plotting.view_img(\n",
    "        img,\n",
    "        bg_img=template,\n",
    "        title=title,\n",
    "        resampling_interpolation='nearest',\n",
    "        symmetric_cmap=False,cmap='Paired')"
   ]
  },
  {
   "cell_type": "code",
   "execution_count": null,
   "metadata": {},
   "outputs": [],
   "source": [
    "atlas = siibra.atlases.MULTILEVEL_HUMAN_ATLAS\n",
    "layermap = atlas.get_map(parcellation=\"cortical layers\",space=\"bigbrain\")"
   ]
  },
  {
   "cell_type": "code",
   "execution_count": null,
   "metadata": {},
   "outputs": [],
   "source": [
    "plot_roi(layermap.fetch(resolution_mm=0.64),\"Layer masks\")"
   ]
  },
  {
   "cell_type": "markdown",
   "metadata": {},
   "source": [
    "We can select regions from the maps to retrieve masks of particular regions. Here, we retrieve a mask of only layer III of BigBrain."
   ]
  },
  {
   "cell_type": "code",
   "execution_count": null,
   "metadata": {},
   "outputs": [],
   "source": [
    "layer3 = atlas.get_region(\"3\",parcellation=\"layers\")\n",
    "layermask = layer3.build_mask(\"bigbrain\")\n",
    "plot_roi(layermask,\"Layer III\")"
   ]
  },
  {
   "cell_type": "markdown",
   "metadata": {},
   "source": [
    "In a similar fashion, we can retrieve a mask of a cortical cytoarchitectonic area:"
   ]
  },
  {
   "cell_type": "code",
   "execution_count": null,
   "metadata": {},
   "outputs": [],
   "source": [
    "hoc3v = atlas.get_region(\"hOc3v\",parcellation='julich-brain')\n",
    "regionmask = hoc3v.build_mask(\"bigbrain\",resolution_mm=0.32)\n",
    "plot_roi(regionmask,\"Area hOc3v\")"
   ]
  },
  {
   "cell_type": "code",
   "execution_count": null,
   "metadata": {},
   "outputs": [],
   "source": [
    "atlas = siibra.atlases.MULTILEVEL_HUMAN_ATLAS\n",
    "regions = atlas.find_regions('LGB-lam3')\n",
    "mask = regions[0].build_mask('bigbrain',resolution_mm=-1)\n",
    "voi = siibra.BoundingBox.from_image(mask,'bigbrain')\n",
    "chunk = atlas.get_template('bigbrain').fetch(resolution_mm=0.04, voi=voi)\n",
    "plotting.view_img(mask,bg_img=chunk,resampling_interpolation='nearest',symmetric_cmap=False,cmap='Paired')"
   ]
  }
 ],
 "metadata": {
  "kernelspec": {
   "display_name": "Python 3",
   "language": "python",
   "name": "python3"
  },
  "language_info": {
   "codemirror_mode": {
    "name": "ipython",
    "version": 3
   },
   "file_extension": ".py",
   "mimetype": "text/x-python",
   "name": "python",
   "nbconvert_exporter": "python",
   "pygments_lexer": "ipython3",
   "version": "3.9.1"
  }
 },
 "nbformat": 4,
 "nbformat_minor": 4
}
