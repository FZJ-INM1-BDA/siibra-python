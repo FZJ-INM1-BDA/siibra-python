{
 "cells": [
  {
   "cell_type": "code",
   "execution_count": null,
   "metadata": {},
   "outputs": [],
   "source": [
    "import siibra\n",
    "from nilearn import plotting"
   ]
  },
  {
   "cell_type": "code",
   "execution_count": null,
   "metadata": {},
   "outputs": [],
   "source": [
    "difumo64 = siibra.parcellations[\"difumo 64\"]\n",
    "funcmap = difumo64.get_map(\"mni 152\",maptype=siibra.MapType.CONTINUOUS)"
   ]
  },
  {
   "cell_type": "code",
   "execution_count": null,
   "metadata": {},
   "outputs": [],
   "source": [
    "jubrain = siibra.parcellations[\"julich-brain 2.5\"]\n",
    "cytomap = jubrain.get_map(\"mni 152\",maptype=siibra.MapType.CONTINUOUS)"
   ]
  },
  {
   "cell_type": "code",
   "execution_count": null,
   "metadata": {},
   "outputs": [],
   "source": [
    "funcindex = 1\n",
    "funcregionmap = funcmap.fetch(mapindex=funcindex)\n",
    "funcregion = funcmap.decode_label(funcindex)\n",
    "plotting.plot_stat_map(funcregionmap,title=f\"Source: {funcregion.name}\")\n",
    "\n",
    "assignments = cytomap.overlap(funcregionmap)\n",
    "for index,region,value in assignments:\n",
    "    if value>0.01:\n",
    "        plotting.plot_stat_map(\n",
    "            cytomap.fetch(mapindex=index),\n",
    "            title=f\"Target: {region.name} ({value*100:.1f}%)\")"
   ]
  }
 ],
 "metadata": {
  "kernelspec": {
   "display_name": "Python 3",
   "language": "python",
   "name": "python3"
  },
  "language_info": {
   "codemirror_mode": {
    "name": "ipython",
    "version": 3
   },
   "file_extension": ".py",
   "mimetype": "text/x-python",
   "name": "python",
   "nbconvert_exporter": "python",
   "pygments_lexer": "ipython3",
   "version": "3.9.1"
  }
 },
 "nbformat": 4,
 "nbformat_minor": 4
}
