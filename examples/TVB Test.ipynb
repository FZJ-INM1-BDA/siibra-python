{
 "cells": [
  {
   "cell_type": "code",
   "execution_count": 1,
   "metadata": {},
   "outputs": [],
   "source": [
    "#from brainscapes import parcellations, atlases, spaces, features\n",
    "import brainscapes as bs\n",
    "from nilearn import plotting"
   ]
  },
  {
   "cell_type": "code",
   "execution_count": 2,
   "metadata": {},
   "outputs": [
    {
     "name": "stderr",
     "output_type": "stream",
     "text": [
      "[brainscapes:INFO]  Selected parcellation \"Julich-Brain Probabilistic Cytoarchitectonic Atlas\"\n"
     ]
    }
   ],
   "source": [
    "atlas = bs.atlases.MULTILEVEL_HUMAN_ATLAS\n",
    "atlas.select_parcellation(bs.parcellations.JULICH_BRAIN_PROBABILISTIC_CYTOARCHITECTONIC_ATLAS)\n",
    "#print(atlas.regiontree)"
   ]
  },
  {
   "cell_type": "code",
   "execution_count": 3,
   "metadata": {},
   "outputs": [
    {
     "data": {
      "image/png": "[encoded data removed]",
      "text/plain": [
       "<Figure size 475.2x187.2 with 4 Axes>"
      ]
     },
     "metadata": {},
     "output_type": "display_data"
    },
    {
     "data": {
      "image/png": "[encoded data removed]",
      "text/plain": [
       "<Figure size 475.2x187.2 with 4 Axes>"
      ]
     },
     "metadata": {},
     "output_type": "display_data"
    }
   ],
   "source": [
    "icbm_mri = atlas.get_template(bs.spaces.MNI_152_ICBM_2009C_NONLINEAR_ASYMMETRIC)\n",
    "icbm_maps = atlas.get_maps(bs.spaces.MNI_COLIN_27)\n",
    "for name,nib in icbm_maps.items():\n",
    "    plotting.plot_img(nib)"
   ]
  },
  {
   "cell_type": "code",
   "execution_count": 4,
   "metadata": {},
   "outputs": [
    {
     "name": "stderr",
     "output_type": "stream",
     "text": [
      "[brainscapes:INFO]  Selected region occipital cortex\n"
     ]
    },
    {
     "name": "stdout",
     "output_type": "stream",
     "text": [
      "occipital cortex\n",
      "├── Area hOc2 (V2, 18)\n",
      "│   ├── Area hOc2 (V2, 18) - left hemisphere\n",
      "│   └── Area hOc2 (V2, 18) - right hemisphere\n",
      "└── Area hOc1 (V1, 17, CalcS)\n",
      "    ├── Area hOc1 (V1, 17, CalcS) - left hemisphere\n",
      "    └── Area hOc1 (V1, 17, CalcS) - right hemisphere\n"
     ]
    }
   ],
   "source": [
    "atlas.select_region(atlas.regionnames.OCCIPITAL_CORTEX)\n",
    "atlas.selected_region.print_tree()"
   ]
  },
  {
   "cell_type": "code",
   "execution_count": 5,
   "metadata": {},
   "outputs": [
    {
     "name": "stderr",
     "output_type": "stream",
     "text": [
      "[brainscapes:INFO]  Retrieving probe ids for gene GABARAPL2\n"
     ]
    },
    {
     "name": "stdout",
     "output_type": "stream",
     "text": [
      "At ( -19, -62,   9)    race:Hispani  gender:F           age:49      Expression: [10.2,12.9] Z-score: [-0.3,-1.2]\n",
      "At ( -23, -53,   2)    race:Hispani  gender:F           age:49      Expression: [10.2,13.3] Z-score: [-0.5,-0.1]\n",
      "At (  -7, -75,   9)    race:Hispani  gender:F           age:49      Expression: [10.1,13.2] Z-score: [-0.5,-0.4]\n",
      "At (  -6, -86,  10)    race:Hispani  gender:F           age:49      Expression: [10.1,13.2] Z-score: [-0.7,-0.4]\n",
      "At (  -7, -86,  10)    race:Hispani  gender:F           age:49      Expression: [10.0,13.1] Z-score: [-0.8,-0.8]\n",
      "At (  -7, -85,  -1)    race:Hispani  gender:F           age:49      Expression: [10.2,13.2] Z-score: [-0.4,-0.5]\n",
      "At (  -3, -94,   9)    race:Hispani  gender:F           age:49      Expression: [10.2,13.2] Z-score: [-0.4,-0.4]\n",
      "At ( -10, -75,   2)    race:Hispani  gender:F           age:49      Expression: [10.4,13.4] Z-score: [ 0.2, 0.1]\n",
      "At (  -6, -94,   5)    race:Hispani  gender:F           age:49      Expression: [10.1,13.3] Z-score: [-0.7,-0.0]\n",
      "At (  -3, -68,   3)    race:Hispani  gender:F           age:49      Expression: [10.3,13.5] Z-score: [-0.1, 0.4]\n",
      "At (  -4, -93,   7)    race:White o  gender:M           age:31      Expression: [10.0,13.0] Z-score: [ 0.2,-0.0]\n",
      "At (  -5, -99,  10)    race:White o  gender:M           age:31      Expression: [ 9.3,12.6] Z-score: [-1.0,-1.0]\n",
      "At (  -3, -80,  10)    race:White o  gender:M           age:31      Expression: [10.0,13.2] Z-score: [ 0.3, 0.6]\n",
      "At (  -2, -92,   4)    race:White o  gender:M           age:31      Expression: [ 9.8,12.8] Z-score: [-0.1,-0.4]\n",
      "At (  -7, -99,   2)    race:White o  gender:M           age:31      Expression: [ 9.8,13.1] Z-score: [-0.0, 0.3]\n",
      "At ( -17, -99,  -3)    race:White o  gender:M           age:31      Expression: [ 9.6,13.0] Z-score: [-0.4,-0.0]\n",
      "At ( -11, -59,  -3)    race:White o  gender:M           age:31      Expression: [ 9.6,12.8] Z-score: [-0.4,-0.4]\n",
      "At ( -22, -59,   2)    race:White o  gender:M           age:31      Expression: [ 9.9,12.9] Z-score: [ 0.1,-0.3]\n",
      "At ( -19, -59,   3)    race:White o  gender:M           age:31      Expression: [ 9.7,12.6] Z-score: [-0.2,-0.8]\n",
      "At (  -6, -67,   3)    race:White o  gender:M           age:31      Expression: [10.1,13.0] Z-score: [ 0.5, 0.1]\n",
      "At (  -7, -67,   1)    race:White o  gender:M           age:31      Expression: [ 9.6,13.0] Z-score: [-0.3, 0.1]\n",
      "At (  -5, -80,   8)    race:White o  gender:M           age:31      Expression: [ 9.9,13.0] Z-score: [ 0.0, 0.2]\n",
      "At (  -1, -93,  -7)    race:White o  gender:M           age:31      Expression: [ 9.9,12.8] Z-score: [ 0.1,-0.4]\n",
      "At (  -7, -99,  -2)    race:White o  gender:M           age:31      Expression: [ 9.8,13.0] Z-score: [-0.0, 0.1]\n",
      "At ( -14, -99,  16)    race:White o  gender:M           age:31      Expression: [ 9.6,12.9] Z-score: [-0.3,-0.3]\n",
      "At (  -9, -86,  14)    race:White o  gender:M           age:55      Expression: [10.3,13.0] Z-score: [ 0.3,-0.2]\n",
      "At ( -25, -64,   5)    race:White o  gender:M           age:55      Expression: [10.2,13.1] Z-score: [ 0.1,-0.0]\n",
      "At ( -12, -77,  13)    race:White o  gender:M           age:55      Expression: [10.3,13.1] Z-score: [ 0.1,-0.1]\n",
      "At ( -12, -86,   1)    race:White o  gender:M           age:55      Expression: [10.4,12.9] Z-score: [ 0.3,-0.6]\n",
      "At ( -23, -55,  -3)    race:White o  gender:M           age:55      Expression: [10.3,13.2] Z-score: [ 0.1, 0.1]\n",
      "At ( -14, -76,   8)    race:White o  gender:M           age:55      Expression: [10.3,13.1] Z-score: [ 0.2,-0.2]\n",
      "At ( -17, -95,  -1)    race:White o  gender:M           age:55      Expression: [10.3,13.0] Z-score: [ 0.2,-0.2]\n",
      "At (  -2, -86,  -7)    race:White o  gender:M           age:55      Expression: [10.5,13.4] Z-score: [ 0.6, 0.5]\n",
      "At (  -2, -86,  -4)    race:White o  gender:M           age:55      Expression: [11.6,14.2] Z-score: [ 2.5, 2.4]\n",
      "At ( -12, -97, -15)    race:White o  gender:M           age:55      Expression: [10.5,13.6] Z-score: [ 0.6, 1.0]\n",
      "At ( -12, -95, -16)    race:White o  gender:M           age:55      Expression: [10.6,13.6] Z-score: [ 0.8, 1.0]\n",
      "At (  11, -71,  15)    race:Black o  gender:M           age:24      Expression: [ 8.2,11.9] Z-score: [-1.3,-1.1]\n",
      "At (   7, -98,   8)    race:Black o  gender:M           age:24      Expression: [ 8.5,12.1] Z-score: [-0.8,-0.7]\n",
      "At (  -7, -67,  -4)    race:Black o  gender:M           age:24      Expression: [ 8.1,11.9] Z-score: [-1.4,-1.1]\n",
      "At (  -7, -94, -18)    race:Black o  gender:M           age:24      Expression: [ 8.7,12.0] Z-score: [-0.6,-1.0]\n",
      "At (  -6, -94, -18)    race:Black o  gender:M           age:24      Expression: [ 8.5,12.0] Z-score: [-0.8,-0.9]\n",
      "At (  -6, -63,   9)    race:Black o  gender:M           age:24      Expression: [ 8.6,12.1] Z-score: [-0.7,-0.8]\n",
      "At (  -7, -63,   9)    race:Black o  gender:M           age:24      Expression: [ 9.2,12.6] Z-score: [ 0.1, 0.0]\n",
      "At (  -8, -74,   8)    race:Black o  gender:M           age:24      Expression: [ 7.8,11.7] Z-score: [-1.7,-1.3]\n",
      "At (   7, -65,   3)    race:Black o  gender:M           age:24      Expression: [ 8.3,11.8] Z-score: [-1.0,-1.3]\n",
      "At (  29, -57,   1)    race:Black o  gender:M           age:24      Expression: [ 9.4,12.8] Z-score: [ 0.4, 0.3]\n",
      "At (   8, -63,  12)    race:Black o  gender:M           age:24      Expression: [ 7.8,11.6] Z-score: [-1.8,-1.5]\n",
      "At (  13, -73,   7)    race:Black o  gender:M           age:24      Expression: [ 9.0,12.3] Z-score: [-0.1,-0.4]\n",
      "At (  12, -73,   7)    race:Black o  gender:M           age:24      Expression: [ 8.5,12.0] Z-score: [-0.9,-0.9]\n",
      "At (  13, -84, -14)    race:Black o  gender:M           age:24      Expression: [ 9.3,12.4] Z-score: [ 0.3,-0.2]\n",
      "At ( -19, -69,   6)    race:White o  gender:M           age:57      Expression: [ 9.4,12.4] Z-score: [-0.2,-0.4]\n",
      "At (  -9, -69,  -1)    race:White o  gender:M           age:57      Expression: [ 9.6,11.9] Z-score: [ 0.1,-1.3]\n",
      "At (  -7, -79,   9)    race:Black o  gender:M           age:39      Expression: [10.3,13.3] Z-score: [-0.1, 0.1]\n",
      "At ( -11, -95,   5)    race:Black o  gender:M           age:39      Expression: [10.5,13.3] Z-score: [ 0.3, 0.1]\n",
      "At (  12, -92,  17)    race:Black o  gender:M           age:39      Expression: [10.2,13.4] Z-score: [-0.3, 0.3]\n",
      "At (  13, -76,  16)    race:Black o  gender:M           age:39      Expression: [10.2,13.4] Z-score: [-0.4, 0.2]\n",
      "At (  -0, -92,   9)    race:Black o  gender:M           age:39      Expression: [10.4,13.4] Z-score: [ 0.2, 0.3]\n",
      "At (  18, -95,  -9)    race:Black o  gender:M           age:39      Expression: [10.2,13.3] Z-score: [-0.4, 0.0]\n",
      "At ( -18, -54,  -3)    race:Black o  gender:M           age:39      Expression: [10.4,13.1] Z-score: [ 0.2,-0.4]\n",
      "At ( -11, -67,   1)    race:Black o  gender:M           age:39      Expression: [10.5,13.6] Z-score: [ 0.3, 0.9]\n",
      "At (  -5, -62,   7)    race:Black o  gender:M           age:39      Expression: [10.3,13.5] Z-score: [-0.1, 0.5]\n",
      "At (  -6, -79,   2)    race:Black o  gender:M           age:39      Expression: [10.0,13.4] Z-score: [-0.8, 0.3]\n",
      "At ( -11, -97,   1)    race:Black o  gender:M           age:39      Expression: [10.2,13.4] Z-score: [-0.2, 0.3]\n",
      "At (  10, -65,   3)    race:Black o  gender:M           age:39      Expression: [10.3,13.3] Z-score: [-0.1, 0.1]\n",
      "At (  10, -78, -10)    race:Black o  gender:M           age:39      Expression: [10.6,13.6] Z-score: [ 0.6, 0.9]\n",
      "At (  16, -95,  -7)    race:Black o  gender:M           age:39      Expression: [ 9.6,13.0] Z-score: [-1.7,-0.8]\n",
      "At (  14, -62,  12)    race:Black o  gender:M           age:39      Expression: [10.1,13.4] Z-score: [-0.6, 0.3]\n",
      "At (  11, -76,  13)    race:Black o  gender:M           age:39      Expression: [10.2,13.5] Z-score: [-0.4, 0.5]\n",
      "At (   0, -95,   1)    race:Black o  gender:M           age:39      Expression: [10.4,13.3] Z-score: [ 0.1,-0.0]\n",
      "At ( -10, -92, -16)    race:Black o  gender:M           age:39      Expression: [10.2,13.3] Z-score: [-0.4,-0.1]\n"
     ]
    }
   ],
   "source": [
    "gexs = atlas.query_data(\n",
    "    modality=bs.features.modalities.GeneExpression,\n",
    "    gene=bs.features.gene_names.GABARAPL2)\n",
    "for gex in gexs:\n",
    "    print(gex)"
   ]
  },
  {
   "cell_type": "code",
   "execution_count": 6,
   "metadata": {},
   "outputs": [
    {
     "name": "stderr",
     "output_type": "stream",
     "text": [
      "[brainscapes:INFO]  Selected region occipital cortex\n",
      "[brainscapes:INFO]  Selected region Area hOc2 (V2, 18)\n"
     ]
    },
    {
     "name": "stdout",
     "output_type": "stream",
     "text": [
      "\u001b[1m          label\u001b[0m 1\n",
      "\u001b[1m    centroid_mm\u001b[0m [  2.15111856 -84.1809796    3.127959  ]\n",
      "\u001b[1m      volume_mm\u001b[0m 50735.0\n",
      "\u001b[1m     surface_mm\u001b[0m 14612.135384989228\n",
      "\u001b[1m    is_cortical\u001b[0m True\n"
     ]
    },
    {
     "name": "stderr",
     "output_type": "stream",
     "text": [
      "[brainscapes:INFO]  Selected region Area hOc2 (V2, 18) - left hemisphere\n"
     ]
    },
    {
     "name": "stdout",
     "output_type": "stream",
     "text": [
      "\u001b[1m          label\u001b[0m 1\n",
      "\u001b[1m    centroid_mm\u001b[0m [  1.86452958 -86.83247329   4.08438885]\n",
      "\u001b[1m      volume_mm\u001b[0m 19185.0\n",
      "\u001b[1m     surface_mm\u001b[0m 11194.506064058385\n",
      "\u001b[1m    is_cortical\u001b[0m True\n"
     ]
    },
    {
     "name": "stderr",
     "output_type": "stream",
     "text": [
      "[brainscapes:INFO]  Selected region Area hOc2 (V2, 18) - right hemisphere\n"
     ]
    },
    {
     "name": "stdout",
     "output_type": "stream",
     "text": [
      "\u001b[1m          label\u001b[0m 1\n",
      "\u001b[1m    centroid_mm\u001b[0m [  1.86452958 -86.83247329   4.08438885]\n",
      "\u001b[1m      volume_mm\u001b[0m 19185.0\n",
      "\u001b[1m     surface_mm\u001b[0m 11194.506064058385\n",
      "\u001b[1m    is_cortical\u001b[0m True\n"
     ]
    },
    {
     "name": "stderr",
     "output_type": "stream",
     "text": [
      "[brainscapes:INFO]  Selected region Area hOc1 (V1, 17, CalcS)\n"
     ]
    },
    {
     "name": "stdout",
     "output_type": "stream",
     "text": [
      "\u001b[1m          label\u001b[0m 1\n",
      "\u001b[1m    centroid_mm\u001b[0m [  1.86452958 -86.83247329   4.08438885]\n",
      "\u001b[1m      volume_mm\u001b[0m 19185.0\n",
      "\u001b[1m     surface_mm\u001b[0m 11194.506064058385\n",
      "\u001b[1m    is_cortical\u001b[0m True\n"
     ]
    },
    {
     "name": "stderr",
     "output_type": "stream",
     "text": [
      "[brainscapes:INFO]  Selected region Area hOc1 (V1, 17, CalcS) - left hemisphere\n"
     ]
    },
    {
     "name": "stdout",
     "output_type": "stream",
     "text": [
      "\u001b[1m          label\u001b[0m 1\n",
      "\u001b[1m    centroid_mm\u001b[0m [  2.32538827 -82.56865293   2.54637084]\n",
      "\u001b[1m      volume_mm\u001b[0m 31550.0\n",
      "\u001b[1m     surface_mm\u001b[0m 10621.162107888205\n",
      "\u001b[1m    is_cortical\u001b[0m True\n"
     ]
    },
    {
     "name": "stderr",
     "output_type": "stream",
     "text": [
      "[brainscapes:INFO]  Selected region Area hOc1 (V1, 17, CalcS) - right hemisphere\n"
     ]
    },
    {
     "name": "stdout",
     "output_type": "stream",
     "text": [
      "\u001b[1m          label\u001b[0m 1\n",
      "\u001b[1m    centroid_mm\u001b[0m [  2.32538827 -82.56865293   2.54637084]\n",
      "\u001b[1m      volume_mm\u001b[0m 31550.0\n",
      "\u001b[1m     surface_mm\u001b[0m 10621.162107888205\n",
      "\u001b[1m    is_cortical\u001b[0m True\n"
     ]
    },
    {
     "name": "stderr",
     "output_type": "stream",
     "text": [
      "[brainscapes:INFO]  Selected region Julich-Brain Probabilistic Cytoarchitectonic Atlas\n"
     ]
    },
    {
     "name": "stdout",
     "output_type": "stream",
     "text": [
      "\u001b[1m          label\u001b[0m 1\n",
      "\u001b[1m    centroid_mm\u001b[0m [  2.32538827 -82.56865293   2.54637084]\n",
      "\u001b[1m      volume_mm\u001b[0m 31550.0\n",
      "\u001b[1m     surface_mm\u001b[0m 10621.162107888205\n",
      "\u001b[1m    is_cortical\u001b[0m True\n"
     ]
    }
   ],
   "source": [
    "props = {}\n",
    "for region in atlas.selected_region.iterate():\n",
    "    atlas.select_region(region)\n",
    "    props[region] = atlas.regionprops(bs.spaces.MNI_152_ICBM_2009C_NONLINEAR_ASYMMETRIC)\n",
    "    print(props[region])\n",
    "atlas.clear_selection()"
   ]
  },
  {
   "cell_type": "code",
   "execution_count": null,
   "metadata": {},
   "outputs": [],
   "source": []
  }
 ],
 "metadata": {
  "kernelspec": {
   "display_name": "Python 3",
   "language": "python",
   "name": "python3"
  },
  "language_info": {
   "codemirror_mode": {
    "name": "ipython",
    "version": 3
   },
   "file_extension": ".py",
   "mimetype": "text/x-python",
   "name": "python",
   "nbconvert_exporter": "python",
   "pygments_lexer": "ipython3",
   "version": "3.8.3"
  }
 },
 "nbformat": 4,
 "nbformat_minor": 4
}
