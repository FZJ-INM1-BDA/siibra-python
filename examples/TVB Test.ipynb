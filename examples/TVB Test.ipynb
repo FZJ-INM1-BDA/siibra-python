{
 "cells": [
  {
   "cell_type": "code",
   "execution_count": 1,
   "metadata": {},
   "outputs": [],
   "source": [
    "from brainscapes import parcellations, atlases, spaces\n",
    "from brainscapes.features import pools,gene_names,modalities\n",
    "from nilearn import plotting"
   ]
  },
  {
   "cell_type": "code",
   "execution_count": 2,
   "metadata": {},
   "outputs": [
    {
     "name": "stdout",
     "output_type": "stream",
     "text": [
      "Julich-Brain Probabilistic Cytoarchitectonic Atlas\n",
      "├── telencephalon\n",
      "│   ├── cerebral nuclei\n",
      "│   │   ├── basal forebrain\n",
      "│   │   │   ├── magnocellular group within septum\n",
      "│   │   │   │   └── Ch 123 (Basal Forebrain)\n",
      "│   │   │   │       ├── Ch 123 (Basal Forebrain) - left hemisphere\n",
      "│   │   │   │       └── Ch 123 (Basal Forebrain) - right hemisphere\n",
      "│   │   │   ├── sublenticular part of basal forebrain\n",
      "│   │   │   │   └── Ch 4 (Basal Forebrain)\n",
      "│   │   │   │       ├── Ch 4 (Basal Forebrain) - left hemisphere\n",
      "│   │   │   │       └── Ch 4 (Basal Forebrain) - right hemisphere\n",
      "│   │   │   └── magnocellular group within horizontal limb of diagnoal band\n",
      "│   │   │       └── Ch 123 (Basal Forebrain)\n",
      "│   │   │           ├── Ch 123 (Basal Forebrain) - left hemisphere\n",
      "│   │   │           └── Ch 123 (Basal Forebrain) - right hemisphere\n",
      "│   │   └── amygdala\n",
      "│   │       ├── laterobasal group\n",
      "│   │       │   └── LB (Amygdala)\n",
      "│   │       │       ├── LB (Amygdala) - left hemisphere\n",
      "│   │       │       └── LB (Amygdala) - right hemisphere\n",
      "│   │       ├── superficial group\n",
      "│   │       │   ├── CM (Amygdala)\n",
      "│   │       │   │   ├── CM (Amygdala) - left hemisphere\n",
      "│   │       │   │   └── CM (Amygdala) - right hemisphere\n",
      "│   │       │   └── SF (Amygdala)\n",
      "│   │       │       ├── SF (Amygdala) - left hemisphere\n",
      "│   │       │       └── SF (Amygdala) - right hemisphere\n",
      "│   │       ├── fiber masses\n",
      "│   │       │   ├── MF (Amygdala)\n",
      "│   │       │   │   ├── MF (Amygdala) - left hemisphere\n",
      "│   │       │   │   └── MF (Amygdala) - right hemisphere\n",
      "│   │       │   ├── VTM (Amygdala)\n",
      "│   │       │   │   ├── VTM (Amygdala) - left hemisphere\n",
      "│   │       │   │   └── VTM (Amygdala) - right hemisphere\n",
      "│   │       │   └── IF (Amygdala)\n",
      "│   │       │       ├── IF (Amygdala) - left hemisphere\n",
      "│   │       │       └── IF (Amygdala) - right hemisphere\n",
      "│   │       └── centromedial group\n",
      "│   │           ├── CM (Amygdala)\n",
      "│   │           │   ├── CM (Amygdala) - left hemisphere\n",
      "│   │           │   └── CM (Amygdala) - right hemisphere\n",
      "│   │           └── CM (Amygdala)\n",
      "│   │               ├── CM (Amygdala) - left hemisphere\n",
      "│   │               └── CM (Amygdala) - right hemisphere\n",
      "│   └── cerebral cortex\n",
      "│       ├── parietal lobe\n",
      "│       │   ├── superior parietal lobule\n",
      "│       │   │   ├── Area 7P (SPL)\n",
      "│       │   │   │   ├── Area 7P (SPL) - left hemisphere\n",
      "│       │   │   │   └── Area 7P (SPL) - right hemisphere\n",
      "│       │   │   ├── Area 5M (SPL)\n",
      "│       │   │   │   ├── Area 5M (SPL) - left hemisphere\n",
      "│       │   │   │   └── Area 5M (SPL) - right hemisphere\n",
      "│       │   │   ├── Area 7PC (SPL)\n",
      "│       │   │   │   ├── Area 7PC (SPL) - left hemisphere\n",
      "│       │   │   │   └── Area 7PC (SPL) - right hemisphere\n",
      "│       │   │   ├── Area 5L (SPL)\n",
      "│       │   │   │   ├── Area 5L (SPL) - left hemisphere\n",
      "│       │   │   │   └── Area 5L (SPL) - right hemisphere\n",
      "│       │   │   ├── Area 7M (SPL)\n",
      "│       │   │   │   ├── Area 7M (SPL) - left hemisphere\n",
      "│       │   │   │   └── Area 7M (SPL) - right hemisphere\n",
      "│       │   │   ├── Area 7A (SPL)\n",
      "│       │   │   │   ├── Area 7A (SPL) - left hemisphere\n",
      "│       │   │   │   └── Area 7A (SPL) - right hemisphere\n",
      "│       │   │   └── Area 5Ci (SPL)\n",
      "│       │   │       ├── Area 5Ci (SPL) - left hemisphere\n",
      "│       │   │       └── Area 5Ci (SPL) - right hemisphere\n",
      "│       │   ├── parietal operculum\n",
      "│       │   │   ├── Area OP2 (POperc)\n",
      "│       │   │   │   ├── Area OP2 (POperc) - left hemisphere\n",
      "│       │   │   │   └── Area OP2 (POperc) - right hemisphere\n",
      "│       │   │   ├── Area OP4 (POperc)\n",
      "│       │   │   │   ├── Area OP4 (POperc) - left hemisphere\n",
      "│       │   │   │   └── Area OP4 (POperc) - right hemisphere\n",
      "│       │   │   ├── Area OP3 (POperc)\n",
      "│       │   │   │   ├── Area OP3 (POperc) - left hemisphere\n",
      "│       │   │   │   └── Area OP3 (POperc) - right hemisphere\n",
      "│       │   │   └── Area OP1 (POperc)\n",
      "│       │   │       ├── Area OP1 (POperc) - left hemisphere\n",
      "│       │   │       └── Area OP1 (POperc) - right hemisphere\n",
      "│       │   ├── postcentral gyrus\n",
      "│       │   │   ├── Area 1 (PostCG)\n",
      "│       │   │   │   ├── Area 1 (PostCG) - left hemisphere\n",
      "│       │   │   │   └── Area 1 (PostCG) - right hemisphere\n",
      "│       │   │   ├── Area 3b (PostCG)\n",
      "│       │   │   │   ├── Area 3b (PostCG) - left hemisphere\n",
      "│       │   │   │   └── Area 3b (PostCG) - right hemisphere\n",
      "│       │   │   ├── Area 3a (PostCG)\n",
      "│       │   │   │   ├── Area 3a (PostCG) - left hemisphere\n",
      "│       │   │   │   └── Area 3a (PostCG) - right hemisphere\n",
      "│       │   │   └── Area 2 (PostCS)\n",
      "│       │   │       ├── Area 2 (PostCS) - left hemisphere\n",
      "│       │   │       └── Area 2 (PostCS) - right hemisphere\n",
      "│       │   ├── inferior parietal lobule\n",
      "│       │   │   ├── Area PFm (IPL)\n",
      "│       │   │   │   ├── Area PFm (IPL) - left hemisphere\n",
      "│       │   │   │   └── Area PFm (IPL) - right hemisphere\n",
      "│       │   │   ├── Area PFop (IPL)\n",
      "│       │   │   │   ├── Area PFop (IPL) - left hemisphere\n",
      "│       │   │   │   └── Area PFop (IPL) - right hemisphere\n",
      "│       │   │   ├── Area PF (IPL)\n",
      "│       │   │   │   ├── Area PF (IPL) - left hemisphere\n",
      "│       │   │   │   └── Area PF (IPL) - right hemisphere\n",
      "│       │   │   ├── Area PGp (IPL)\n",
      "│       │   │   │   ├── Area PGp (IPL) - left hemisphere\n",
      "│       │   │   │   └── Area PGp (IPL) - right hemisphere\n",
      "│       │   │   ├── Area PGa (IPL)\n",
      "│       │   │   │   ├── Area PGa (IPL) - left hemisphere\n",
      "│       │   │   │   └── Area PGa (IPL) - right hemisphere\n",
      "│       │   │   ├── Area PFt (IPL)\n",
      "│       │   │   │   ├── Area PFt (IPL) - left hemisphere\n",
      "│       │   │   │   └── Area PFt (IPL) - right hemisphere\n",
      "│       │   │   └── Area PFcm (IPL)\n",
      "│       │   │       ├── Area PFcm (IPL) - left hemisphere\n",
      "│       │   │       └── Area PFcm (IPL) - right hemisphere\n",
      "│       │   ├── parieto-occipital sulcus\n",
      "│       │   │   └── Area hPO1 (POS)\n",
      "│       │   │       ├── Area hPO1 (POS) - left hemisphere\n",
      "│       │   │       └── Area hPO1 (POS) - right hemisphere\n",
      "│       │   └── intraparietal sulcus\n",
      "│       │       ├── Area hIP5 (IPS)\n",
      "│       │       │   ├── Area hIP5 (IPS) - left hemisphere\n",
      "│       │       │   └── Area hIP5 (IPS) - right hemisphere\n",
      "│       │       ├── Area hIP3 (IPS)\n",
      "│       │       │   ├── Area hIP3 (IPS) - left hemisphere\n",
      "│       │       │   └── Area hIP3 (IPS) - right hemisphere\n",
      "│       │       ├── Area hIP8 (IPS)\n",
      "│       │       │   ├── Area hIP8 (IPS) - left hemisphere\n",
      "│       │       │   └── Area hIP8 (IPS) - right hemisphere\n",
      "│       │       ├── Area hIP4 (IPS)\n",
      "│       │       │   ├── Area hIP4 (IPS) - left hemisphere\n",
      "│       │       │   └── Area hIP4 (IPS) - right hemisphere\n",
      "│       │       ├── Area hIP7 (IPS)\n",
      "│       │       │   ├── Area hIP7 (IPS) - left hemisphere\n",
      "│       │       │   └── Area hIP7 (IPS) - right hemisphere\n",
      "│       │       ├── Area hIP1 (IPS)\n",
      "│       │       │   ├── Area hIP1 (IPS) - left hemisphere\n",
      "│       │       │   └── Area hIP1 (IPS) - right hemisphere\n",
      "│       │       ├── Area hIP6 (IPS)\n",
      "│       │       │   ├── Area hIP6 (IPS) - left hemisphere\n",
      "│       │       │   └── Area hIP6 (IPS) - right hemisphere\n",
      "│       │       └── Area hIP2 (IPS)\n",
      "│       │           ├── Area hIP2 (IPS) - left hemisphere\n",
      "│       │           └── Area hIP2 (IPS) - right hemisphere\n",
      "│       ├── occiptal lobe\n",
      "│       │   ├── dorsal occipital cortex\n",
      "│       │   │   ├── Area hOc4d (Cuneus)\n",
      "│       │   │   │   ├── Area hOc4d (Cuneus) - left hemisphere\n",
      "│       │   │   │   └── Area hOc4d (Cuneus) - right hemisphere\n",
      "│       │   │   ├── Area hOc3d (Cuneus)\n",
      "│       │   │   │   ├── Area hOc3d (Cuneus) - left hemisphere\n",
      "│       │   │   │   └── Area hOc3d (Cuneus) - right hemisphere\n",
      "│       │   │   └── Area hOc6 (POS)\n",
      "│       │   │       ├── Area hOc6 (POS) - left hemisphere\n",
      "│       │   │       └── Area hOc6 (POS) - right hemisphere\n",
      "│       │   ├── ventral occipital cortex\n",
      "│       │   │   ├── Area hOc4v (LingG)\n",
      "│       │   │   │   ├── Area hOc4v (LingG) - left hemisphere\n",
      "│       │   │   │   └── Area hOc4v (LingG) - right hemisphere\n",
      "│       │   │   └── Area hOc3v (LingG)\n",
      "│       │   │       ├── Area hOc3v (LingG) - left hemisphere\n",
      "│       │   │       └── Area hOc3v (LingG) - right hemisphere\n",
      "│       │   ├── occipital cortex\n",
      "│       │   │   ├── Area hOc2 (V2, 18)\n",
      "│       │   │   │   ├── Area hOc2 (V2, 18) - left hemisphere\n",
      "│       │   │   │   └── Area hOc2 (V2, 18) - right hemisphere\n",
      "│       │   │   └── Area hOc1 (V1, 17, CalcS)\n",
      "│       │   │       ├── Area hOc1 (V1, 17, CalcS) - left hemisphere\n",
      "│       │   │       └── Area hOc1 (V1, 17, CalcS) - right hemisphere\n",
      "│       │   └── lateral occipital cortex\n",
      "│       │       ├── Area hOc5 (LOC)\n",
      "│       │       │   ├── Area hOc5 (LOC) - left hemisphere\n",
      "│       │       │   └── Area hOc5 (LOC) - right hemisphere\n",
      "│       │       ├── Area hOc4la (LOC)\n",
      "│       │       │   ├── Area hOc4la (LOC) - left hemisphere\n",
      "│       │       │   └── Area hOc4la (LOC) - right hemisphere\n",
      "│       │       └── Area hOc4lp (LOC)\n",
      "│       │           ├── Area hOc4lp (LOC) - left hemisphere\n",
      "│       │           └── Area hOc4lp (LOC) - right hemisphere\n",
      "│       ├── frontal lobe\n",
      "│       │   ├── inferior frontal sulcus\n",
      "│       │   │   ├── Area ifj1 (IFS/PreS)\n",
      "│       │   │   │   ├── Area ifj1 (IFS/PreS) - left hemisphere\n",
      "│       │   │   │   └── Area ifj1 (IFS/PreS) - right hemisphere\n",
      "│       │   │   ├── Area ifs4 (IFS)\n",
      "│       │   │   │   ├── Area ifs4 (IFS) - left hemisphere\n",
      "│       │   │   │   └── Area ifs4 (IFS) - right hemisphere\n",
      "│       │   │   ├── Area ifs1 (IFS)\n",
      "│       │   │   │   ├── Area ifs1 (IFS) - left hemisphere\n",
      "│       │   │   │   └── Area ifs1 (IFS) - right hemisphere\n",
      "│       │   │   ├── Area ifj2 (IFS/PreS)\n",
      "│       │   │   │   ├── Area ifj2 (IFS/PreS) - left hemisphere\n",
      "│       │   │   │   └── Area ifj2 (IFS/PreS) - right hemisphere\n",
      "│       │   │   ├── Area ifs2 (IFS)\n",
      "│       │   │   │   ├── Area ifs2 (IFS) - left hemisphere\n",
      "│       │   │   │   └── Area ifs2 (IFS) - right hemisphere\n",
      "│       │   │   └── Area ifs3 (IFS)\n",
      "│       │   │       ├── Area ifs3 (IFS) - left hemisphere\n",
      "│       │   │       └── Area ifs3 (IFS) - right hemisphere\n",
      "│       │   ├── inferior frontal gyrus\n",
      "│       │   │   ├── Area 44 (IFG)\n",
      "│       │   │   │   ├── Area 44 (IFG) - left hemisphere\n",
      "│       │   │   │   └── Area 44 (IFG) - right hemisphere\n",
      "│       │   │   └── Area 45 (IFG)\n",
      "│       │   │       ├── Area 45 (IFG) - left hemisphere\n",
      "│       │   │       └── Area 45 (IFG) - right hemisphere\n",
      "│       │   ├── dorsal precentral gyrus\n",
      "│       │   │   ├── Area 6d1 (PreCG)\n",
      "│       │   │   │   ├── Area 6d1 (PreCG) - left hemisphere\n",
      "│       │   │   │   └── Area 6d1 (PreCG) - right hemisphere\n",
      "│       │   │   └── Area 6d2 (PreCG)\n",
      "│       │   │       ├── Area 6d2 (PreCG) - left hemisphere\n",
      "│       │   │       └── Area 6d2 (PreCG) - right hemisphere\n",
      "│       │   ├── posterior medial superior frontal gyrus\n",
      "│       │   │   └── Area 6ma (preSMA, mesial SFG)\n",
      "│       │   │       ├── Area 6ma (preSMA, mesial SFG) - left hemisphere\n",
      "│       │   │       └── Area 6ma (preSMA, mesial SFG) - right hemisphere\n",
      "│       │   ├── superior frontal sulcus\n",
      "│       │   │   └── Area 6d3 (SFS)\n",
      "│       │   │       ├── Area 6d3 (SFS) - left hemisphere\n",
      "│       │   │       └── Area 6d3 (SFS) - right hemisphere\n",
      "│       │   ├── frontal pole\n",
      "│       │   │   ├── Area Fp1 (FPole)\n",
      "│       │   │   │   ├── Area Fp1 (FPole) - left hemisphere\n",
      "│       │   │   │   └── Area Fp1 (FPole) - right hemisphere\n",
      "│       │   │   └── Area Fp2 (FPole)\n",
      "│       │   │       ├── Area Fp2 (FPole) - left hemisphere\n",
      "│       │   │       └── Area Fp2 (FPole) - right hemisphere\n",
      "│       │   ├── precentral gyrus \n",
      "│       │   │   ├── Area 4p (PreCG)\n",
      "│       │   │   │   ├── Area 4p (PreCG) - left hemisphere\n",
      "│       │   │   │   └── Area 4p (PreCG) - right hemisphere\n",
      "│       │   │   └── Area 4a (PreCG)\n",
      "│       │   │       ├── Area 4a (PreCG) - left hemisphere\n",
      "│       │   │       └── Area 4a (PreCG) - right hemisphere\n",
      "│       │   ├── mesial precentral gyrus\n",
      "│       │   │   └── Area 6mp (SMA, mesial SFG)\n",
      "│       │   │       ├── Area 6mp (SMA, mesial SFG) - left hemisphere\n",
      "│       │   │       └── Area 6mp (SMA, mesial SFG) - right hemisphere\n",
      "│       │   ├── medial orbitofrontal cortex\n",
      "│       │   │   ├── Area Fo3 (OFC)\n",
      "│       │   │   │   ├── Area Fo3 (OFC) - left hemisphere\n",
      "│       │   │   │   └── Area Fo3 (OFC) - right hemisphere\n",
      "│       │   │   ├── Area Fo1 (OFC)\n",
      "│       │   │   │   ├── Area Fo1 (OFC) - left hemisphere\n",
      "│       │   │   │   └── Area Fo1 (OFC) - right hemisphere\n",
      "│       │   │   └── Area Fo2 (OFC)\n",
      "│       │   │       ├── Area Fo2 (OFC) - left hemisphere\n",
      "│       │   │       └── Area Fo2 (OFC) - right hemisphere\n",
      "│       │   ├── frontal operculum \n",
      "│       │   │   ├── Area OP9 (Frontal Operculum)\n",
      "│       │   │   │   ├── Area OP9 (Frontal Operculum) - left hemisphere\n",
      "│       │   │   │   └── Area OP9 (Frontal Operculum) - right hemisphere\n",
      "│       │   │   └── Area OP8 (Frontal Operculum)\n",
      "│       │   │       ├── Area OP8 (Frontal Operculum) - left hemisphere\n",
      "│       │   │       └── Area OP8 (Frontal Operculum) - right hemisphere\n",
      "│       │   └── lateral orbitofrontal cortex\n",
      "│       │       ├── Area Fo5 (OFC)\n",
      "│       │       │   ├── Area Fo5 (OFC) - left hemisphere\n",
      "│       │       │   └── Area Fo5 (OFC) - right hemisphere\n",
      "│       │       ├── Area Fo7 (OFC)\n",
      "│       │       │   ├── Area Fo7 (OFC) - left hemisphere\n",
      "│       │       │   └── Area Fo7 (OFC) - right hemisphere\n",
      "│       │       ├── Area Fo4 (OFC)\n",
      "│       │       │   ├── Area Fo4 (OFC) - left hemisphere\n",
      "│       │       │   └── Area Fo4 (OFC) - right hemisphere\n",
      "│       │       └── Area Fo6 (OFC)\n",
      "│       │           ├── Area Fo6 (OFC) - left hemisphere\n",
      "│       │           └── Area Fo6 (OFC) - right hemisphere\n",
      "│       ├── insula\n",
      "│       │   ├── granular insula\n",
      "│       │   │   ├── Area Ig1 (Insula)\n",
      "│       │   │   │   ├── Area Ig1 (Insula) - left hemisphere\n",
      "│       │   │   │   └── Area Ig1 (Insula) - right hemisphere\n",
      "│       │   │   └── Area Ig2 (Insula)\n",
      "│       │   │       ├── Area Ig2 (Insula) - left hemisphere\n",
      "│       │   │       └── Area Ig2 (Insula) - right hemisphere\n",
      "│       │   ├── agranular insula\n",
      "│       │   │   └── Area Ia (Insula)\n",
      "│       │   │       ├── Area Ia (Insula) - left hemisphere\n",
      "│       │   │       └── Area Ia (Insula) - right hemisphere\n",
      "│       │   ├── dys-/agranular insula\n",
      "│       │   │   └── Area Id7 (Insula)\n",
      "│       │   │       ├── Area Id7 (Insula) - left hemisphere\n",
      "│       │   │       └── Area Id7 (Insula) - right hemisphere\n",
      "│       │   └── dysgranular insula\n",
      "│       │       ├── Area Id1 (Insula)\n",
      "│       │       │   ├── Area Id1 (Insula) - left hemisphere\n",
      "│       │       │   └── Area Id1 (Insula) - right hemisphere\n",
      "│       │       ├── Area Id5 (Insula)\n",
      "│       │       │   ├── Area Id5 (Insula) - left hemisphere\n",
      "│       │       │   └── Area Id5 (Insula) - right hemisphere\n",
      "│       │       ├── Area Id4 (Insula)\n",
      "│       │       │   ├── Area Id4 (Insula) - left hemisphere\n",
      "│       │       │   └── Area Id4 (Insula) - right hemisphere\n",
      "│       │       └── Area Id6 (Insula)\n",
      "│       │           ├── Area Id6 (Insula) - left hemisphere\n",
      "│       │           └── Area Id6 (Insula) - right hemisphere\n",
      "│       ├── temporal lobe\n",
      "│       │   ├── superior temporal sulcus\n",
      "│       │   │   ├── Area STS1 (STS)\n",
      "│       │   │   │   ├── Area STS1 (STS) - left hemisphere\n",
      "│       │   │   │   └── Area STS1 (STS) - right hemisphere\n",
      "│       │   │   └── Area STS2 (STS)\n",
      "│       │   │       ├── Area STS2 (STS) - left hemisphere\n",
      "│       │   │       └── Area STS2 (STS) - right hemisphere\n",
      "│       │   ├── superior temporal gyrus\n",
      "│       │   │   └── Area TE 3 (STG)\n",
      "│       │   │       ├── Area TE 3 (STG) - left hemisphere\n",
      "│       │   │       └── Area TE 3 (STG) - right hemisphere\n",
      "│       │   ├── Heschl's gyrus\n",
      "│       │   │   ├── Area TE 1.2 (HESCHL)\n",
      "│       │   │   │   ├── Area TE 1.2 (HESCHL) - left hemisphere\n",
      "│       │   │   │   └── Area TE 1.2 (HESCHL) - right hemisphere\n",
      "│       │   │   ├── Area TE 1.1 (HESCHL)\n",
      "│       │   │   │   ├── Area TE 1.1 (HESCHL) - left hemisphere\n",
      "│       │   │   │   └── Area TE 1.1 (HESCHL) - right hemisphere\n",
      "│       │   │   └── Area TE 1.0 (HESCHL)\n",
      "│       │   │       ├── Area TE 1.0 (HESCHL) - left hemisphere\n",
      "│       │   │       └── Area TE 1.0 (HESCHL) - right hemisphere\n",
      "│       │   └── fusiform gyrus\n",
      "│       │       ├── Area FG1 (FusG)\n",
      "│       │       │   ├── Area FG1 (FusG) - left hemisphere\n",
      "│       │       │   └── Area FG1 (FusG) - right hemisphere\n",
      "│       │       ├── Area FG4 (FusG)\n",
      "│       │       │   ├── Area FG4 (FusG) - left hemisphere\n",
      "│       │       │   └── Area FG4 (FusG) - right hemisphere\n",
      "│       │       ├── Area FG3 (FusG)\n",
      "│       │       │   ├── Area FG3 (FusG) - left hemisphere\n",
      "│       │       │   └── Area FG3 (FusG) - right hemisphere\n",
      "│       │       └── Area FG2 (FusG)\n",
      "│       │           ├── Area FG2 (FusG) - left hemisphere\n",
      "│       │           └── Area FG2 (FusG) - right hemisphere\n",
      "│       └── limbic lobe\n",
      "│           ├── cingulate gyrus, frontal part\n",
      "│           │   ├── Area p24c (pACC)\n",
      "│           │   │   ├── Area p24c (pACC) - left hemisphere\n",
      "│           │   │   └── Area p24c (pACC) - right hemisphere\n",
      "│           │   ├── Area p24ab (pACC)\n",
      "│           │   │   ├── Area p24ab (pACC) - left hemisphere\n",
      "│           │   │   └── Area p24ab (pACC) - right hemisphere\n",
      "│           │   ├── Area s32 (sACC)\n",
      "│           │   │   ├── Area s32 (sACC) - left hemisphere\n",
      "│           │   │   └── Area s32 (sACC) - right hemisphere\n",
      "│           │   ├── Area 25 (sACC)\n",
      "│           │   │   ├── Area 25 (sACC) - left hemisphere\n",
      "│           │   │   └── Area 25 (sACC) - right hemisphere\n",
      "│           │   ├── Area s24 (sACC)\n",
      "│           │   │   ├── Area s24 (sACC) - left hemisphere\n",
      "│           │   │   └── Area s24 (sACC) - right hemisphere\n",
      "│           │   ├── Area p32 (pACC)\n",
      "│           │   │   ├── Area p32 (pACC) - left hemisphere\n",
      "│           │   │   └── Area p32 (pACC) - right hemisphere\n",
      "│           │   └── Area 33 (ACC)\n",
      "│           │       ├── Area 33 (ACC) - left hemisphere\n",
      "│           │       └── Area 33 (ACC) - right hemisphere\n",
      "│           └── hippocampal formation\n",
      "│               ├── Entorhinal Cortex\n",
      "│               │   ├── Entorhinal Cortex - left hemisphere\n",
      "│               │   └── Entorhinal Cortex - right hemisphere\n",
      "│               ├── CA (Hippocampus)\n",
      "│               │   ├── CA (Hippocampus) - left hemisphere\n",
      "│               │   └── CA (Hippocampus) - right hemisphere\n",
      "│               ├── DG (Hippocampus)\n",
      "│               │   ├── DG (Hippocampus) - left hemisphere\n",
      "│               │   └── DG (Hippocampus) - right hemisphere\n",
      "│               ├── Subiculum (Hippocampus)\n",
      "│               │   ├── Subiculum (Hippocampus) - left hemisphere\n",
      "│               │   └── Subiculum (Hippocampus) - right hemisphere\n",
      "│               └── HATA (Hippocampus)\n",
      "│                   ├── HATA (Hippocampus) - left hemisphere\n",
      "│                   └── HATA (Hippocampus) - right hemisphere\n",
      "└── metencephalon\n",
      "    └── cerebellum\n",
      "        └── cerebellar nuclei\n",
      "            ├── globose nucleus\n",
      "            │   └── Interposed Nucleus (Cerebellum)\n",
      "            │       ├── Interposed Nucleus (Cerebellum) - left hemisphere\n",
      "            │       └── Interposed Nucleus (Cerebellum) - right hemisphere\n",
      "            ├── dentate nucleus\n",
      "            │   ├── Dorsal Dentate Nucleus (Cerebellum)\n",
      "            │   │   ├── Dorsal Dentate Nucleus (Cerebellum) - left hemisphere\n",
      "            │   │   └── Dorsal Dentate Nucleus (Cerebellum) - right hemisphere\n",
      "            │   └── Ventral Dentate Nucleus (Cerebellum)\n",
      "            │       ├── Ventral Dentate Nucleus (Cerebellum) - left hemisphere\n",
      "            │       └── Ventral Dentate Nucleus (Cerebellum) - right hemisphere\n",
      "            ├── fastigial nucleus\n",
      "            │   └── Fastigial Nucleus (Cerebellum)\n",
      "            │       ├── Fastigial Nucleus (Cerebellum) - left hemisphere\n",
      "            │       └── Fastigial Nucleus (Cerebellum) - right hemisphere\n",
      "            └── emboliform nucleus\n",
      "                └── Interposed Nucleus (Cerebellum)\n",
      "                    ├── Interposed Nucleus (Cerebellum) - left hemisphere\n",
      "                    └── Interposed Nucleus (Cerebellum) - right hemisphere\n"
     ]
    }
   ],
   "source": [
    "atlas = atlases.MULTILEVEL_HUMAN_ATLAS\n",
    "atlas.select_parcellation(parcellations.JULICH_BRAIN_PROBABILISTIC_CYTOARCHITECTONIC_ATLAS)\n",
    "print(atlas.regiontree)"
   ]
  },
  {
   "cell_type": "code",
   "execution_count": 3,
   "metadata": {},
   "outputs": [
    {
     "name": "stderr",
     "output_type": "stream",
     "text": [
      "pixdim[0] (qfac) should be 1 (default) or -1; setting qfac to 1\n",
      "INFO:nibabel.global:pixdim[0] (qfac) should be 1 (default) or -1; setting qfac to 1\n"
     ]
    },
    {
     "name": "stdout",
     "output_type": "stream",
     "text": [
      "Loading template image for space MNI 152 ICBM 2009c Nonlinear Asymmetric\n",
      "Loading 3D map for space  MNI Colin 27\n",
      "left hemisphere\n",
      "right hemisphere\n"
     ]
    },
    {
     "data": {
      "image/png": "[encoded data removed]",
      "text/plain": [
       "<Figure size 475.2x187.2 with 4 Axes>"
      ]
     },
     "metadata": {},
     "output_type": "display_data"
    },
    {
     "data": {
      "image/png": "[encoded data removed]",
      "text/plain": [
       "<Figure size 475.2x187.2 with 4 Axes>"
      ]
     },
     "metadata": {},
     "output_type": "display_data"
    }
   ],
   "source": [
    "icbm_mri = atlas.get_template(spaces.MNI_152_ICBM_2009C_NONLINEAR_ASYMMETRIC)\n",
    "icbm_maps = atlas.get_maps(spaces.MNI_COLIN_27)\n",
    "for name,nib in icbm_maps.items():\n",
    "    print(name)\n",
    "    plotting.plot_img(nib)"
   ]
  },
  {
   "cell_type": "code",
   "execution_count": 4,
   "metadata": {},
   "outputs": [
    {
     "name": "stderr",
     "output_type": "stream",
     "text": [
      "INFO:root:Selected region occipital cortex\n"
     ]
    },
    {
     "name": "stdout",
     "output_type": "stream",
     "text": [
      "occipital cortex\n",
      "├── Area hOc2 (V2, 18)\n",
      "│   ├── Area hOc2 (V2, 18) - left hemisphere\n",
      "│   └── Area hOc2 (V2, 18) - right hemisphere\n",
      "└── Area hOc1 (V1, 17, CalcS)\n",
      "    ├── Area hOc1 (V1, 17, CalcS) - left hemisphere\n",
      "    └── Area hOc1 (V1, 17, CalcS) - right hemisphere\n"
     ]
    }
   ],
   "source": [
    "atlas.select_region('occipital cortex')\n",
    "print(atlas.selected_region)"
   ]
  },
  {
   "cell_type": "code",
   "execution_count": 9,
   "metadata": {},
   "outputs": [
    {
     "name": "stderr",
     "output_type": "stream",
     "text": [
      "INFO:root:Retrieving probe ids for gene GABARAPL2\n"
     ]
    },
    {
     "name": "stdout",
     "output_type": "stream",
     "text": [
      "At ( -19, -62,   9)    race:Hispani  gender:F           age:49      Expression: [10.2,12.9] Z-score: [-0.3,-1.2]\n",
      "At ( -23, -53,   2)    race:Hispani  gender:F           age:49      Expression: [10.2,13.3] Z-score: [-0.5,-0.1]\n",
      "At (  -7, -75,   9)    race:Hispani  gender:F           age:49      Expression: [10.1,13.2] Z-score: [-0.5,-0.4]\n",
      "At (  -6, -86,  10)    race:Hispani  gender:F           age:49      Expression: [10.1,13.2] Z-score: [-0.7,-0.4]\n",
      "At (  -7, -86,  10)    race:Hispani  gender:F           age:49      Expression: [10.0,13.1] Z-score: [-0.8,-0.8]\n",
      "At (  -7, -85,  -1)    race:Hispani  gender:F           age:49      Expression: [10.2,13.2] Z-score: [-0.4,-0.5]\n",
      "At (  -3, -94,   9)    race:Hispani  gender:F           age:49      Expression: [10.2,13.2] Z-score: [-0.4,-0.4]\n",
      "At ( -10, -75,   2)    race:Hispani  gender:F           age:49      Expression: [10.4,13.4] Z-score: [ 0.2, 0.1]\n",
      "At (  -6, -94,   5)    race:Hispani  gender:F           age:49      Expression: [10.1,13.3] Z-score: [-0.7,-0.0]\n",
      "At (  -3, -68,   3)    race:Hispani  gender:F           age:49      Expression: [10.3,13.5] Z-score: [-0.1, 0.4]\n",
      "At (  -4, -93,   7)    race:White o  gender:M           age:31      Expression: [10.0,13.0] Z-score: [ 0.2,-0.0]\n",
      "At (  -5, -99,  10)    race:White o  gender:M           age:31      Expression: [ 9.3,12.6] Z-score: [-1.0,-1.0]\n",
      "At (  -3, -80,  10)    race:White o  gender:M           age:31      Expression: [10.0,13.2] Z-score: [ 0.3, 0.6]\n",
      "At (  -2, -92,   4)    race:White o  gender:M           age:31      Expression: [ 9.8,12.8] Z-score: [-0.1,-0.4]\n",
      "At (  -7, -99,   2)    race:White o  gender:M           age:31      Expression: [ 9.8,13.1] Z-score: [-0.0, 0.3]\n",
      "At ( -17, -99,  -3)    race:White o  gender:M           age:31      Expression: [ 9.6,13.0] Z-score: [-0.4,-0.0]\n",
      "At ( -11, -59,  -3)    race:White o  gender:M           age:31      Expression: [ 9.6,12.8] Z-score: [-0.4,-0.4]\n",
      "At ( -22, -59,   2)    race:White o  gender:M           age:31      Expression: [ 9.9,12.9] Z-score: [ 0.1,-0.3]\n",
      "At ( -19, -59,   3)    race:White o  gender:M           age:31      Expression: [ 9.7,12.6] Z-score: [-0.2,-0.8]\n",
      "At (  -6, -67,   3)    race:White o  gender:M           age:31      Expression: [10.1,13.0] Z-score: [ 0.5, 0.1]\n",
      "At (  -7, -67,   1)    race:White o  gender:M           age:31      Expression: [ 9.6,13.0] Z-score: [-0.3, 0.1]\n",
      "At (  -5, -80,   8)    race:White o  gender:M           age:31      Expression: [ 9.9,13.0] Z-score: [ 0.0, 0.2]\n",
      "At (  -1, -93,  -7)    race:White o  gender:M           age:31      Expression: [ 9.9,12.8] Z-score: [ 0.1,-0.4]\n",
      "At (  -7, -99,  -2)    race:White o  gender:M           age:31      Expression: [ 9.8,13.0] Z-score: [-0.0, 0.1]\n",
      "At ( -14, -99,  16)    race:White o  gender:M           age:31      Expression: [ 9.6,12.9] Z-score: [-0.3,-0.3]\n",
      "At (  -9, -86,  14)    race:White o  gender:M           age:55      Expression: [10.3,13.0] Z-score: [ 0.3,-0.2]\n",
      "At ( -25, -64,   5)    race:White o  gender:M           age:55      Expression: [10.2,13.1] Z-score: [ 0.1,-0.0]\n",
      "At ( -12, -77,  13)    race:White o  gender:M           age:55      Expression: [10.3,13.1] Z-score: [ 0.1,-0.1]\n",
      "At ( -12, -86,   1)    race:White o  gender:M           age:55      Expression: [10.4,12.9] Z-score: [ 0.3,-0.6]\n",
      "At ( -23, -55,  -3)    race:White o  gender:M           age:55      Expression: [10.3,13.2] Z-score: [ 0.1, 0.1]\n",
      "At ( -14, -76,   8)    race:White o  gender:M           age:55      Expression: [10.3,13.1] Z-score: [ 0.2,-0.2]\n",
      "At ( -17, -95,  -1)    race:White o  gender:M           age:55      Expression: [10.3,13.0] Z-score: [ 0.2,-0.2]\n",
      "At (  -2, -86,  -7)    race:White o  gender:M           age:55      Expression: [10.5,13.4] Z-score: [ 0.6, 0.5]\n",
      "At (  -2, -86,  -4)    race:White o  gender:M           age:55      Expression: [11.6,14.2] Z-score: [ 2.5, 2.4]\n",
      "At ( -12, -97, -15)    race:White o  gender:M           age:55      Expression: [10.5,13.6] Z-score: [ 0.6, 1.0]\n",
      "At ( -12, -95, -16)    race:White o  gender:M           age:55      Expression: [10.6,13.6] Z-score: [ 0.8, 1.0]\n",
      "At (  11, -71,  15)    race:Black o  gender:M           age:24      Expression: [ 8.2,11.9] Z-score: [-1.3,-1.1]\n",
      "At (   7, -98,   8)    race:Black o  gender:M           age:24      Expression: [ 8.5,12.1] Z-score: [-0.8,-0.7]\n",
      "At (  -7, -67,  -4)    race:Black o  gender:M           age:24      Expression: [ 8.1,11.9] Z-score: [-1.4,-1.1]\n",
      "At (  -7, -94, -18)    race:Black o  gender:M           age:24      Expression: [ 8.7,12.0] Z-score: [-0.6,-1.0]\n",
      "At (  -6, -94, -18)    race:Black o  gender:M           age:24      Expression: [ 8.5,12.0] Z-score: [-0.8,-0.9]\n",
      "At (  -6, -63,   9)    race:Black o  gender:M           age:24      Expression: [ 8.6,12.1] Z-score: [-0.7,-0.8]\n",
      "At (  -7, -63,   9)    race:Black o  gender:M           age:24      Expression: [ 9.2,12.6] Z-score: [ 0.1, 0.0]\n",
      "At (  -8, -74,   8)    race:Black o  gender:M           age:24      Expression: [ 7.8,11.7] Z-score: [-1.7,-1.3]\n",
      "At (   7, -65,   3)    race:Black o  gender:M           age:24      Expression: [ 8.3,11.8] Z-score: [-1.0,-1.3]\n",
      "At (  29, -57,   1)    race:Black o  gender:M           age:24      Expression: [ 9.4,12.8] Z-score: [ 0.4, 0.3]\n",
      "At (   8, -63,  12)    race:Black o  gender:M           age:24      Expression: [ 7.8,11.6] Z-score: [-1.8,-1.5]\n",
      "At (  13, -73,   7)    race:Black o  gender:M           age:24      Expression: [ 9.0,12.3] Z-score: [-0.1,-0.4]\n",
      "At (  12, -73,   7)    race:Black o  gender:M           age:24      Expression: [ 8.5,12.0] Z-score: [-0.9,-0.9]\n",
      "At (  13, -84, -14)    race:Black o  gender:M           age:24      Expression: [ 9.3,12.4] Z-score: [ 0.3,-0.2]\n",
      "At ( -19, -69,   6)    race:White o  gender:M           age:57      Expression: [ 9.4,12.4] Z-score: [-0.2,-0.4]\n",
      "At (  -9, -69,  -1)    race:White o  gender:M           age:57      Expression: [ 9.6,11.9] Z-score: [ 0.1,-1.3]\n",
      "At (  -7, -79,   9)    race:Black o  gender:M           age:39      Expression: [10.3,13.3] Z-score: [-0.1, 0.1]\n",
      "At ( -11, -95,   5)    race:Black o  gender:M           age:39      Expression: [10.5,13.3] Z-score: [ 0.3, 0.1]\n",
      "At (  12, -92,  17)    race:Black o  gender:M           age:39      Expression: [10.2,13.4] Z-score: [-0.3, 0.3]\n",
      "At (  13, -76,  16)    race:Black o  gender:M           age:39      Expression: [10.2,13.4] Z-score: [-0.4, 0.2]\n",
      "At (  -0, -92,   9)    race:Black o  gender:M           age:39      Expression: [10.4,13.4] Z-score: [ 0.2, 0.3]\n",
      "At (  18, -95,  -9)    race:Black o  gender:M           age:39      Expression: [10.2,13.3] Z-score: [-0.4, 0.0]\n",
      "At ( -18, -54,  -3)    race:Black o  gender:M           age:39      Expression: [10.4,13.1] Z-score: [ 0.2,-0.4]\n",
      "At ( -11, -67,   1)    race:Black o  gender:M           age:39      Expression: [10.5,13.6] Z-score: [ 0.3, 0.9]\n",
      "At (  -5, -62,   7)    race:Black o  gender:M           age:39      Expression: [10.3,13.5] Z-score: [-0.1, 0.5]\n",
      "At (  -6, -79,   2)    race:Black o  gender:M           age:39      Expression: [10.0,13.4] Z-score: [-0.8, 0.3]\n",
      "At ( -11, -97,   1)    race:Black o  gender:M           age:39      Expression: [10.2,13.4] Z-score: [-0.2, 0.3]\n",
      "At (  10, -65,   3)    race:Black o  gender:M           age:39      Expression: [10.3,13.3] Z-score: [-0.1, 0.1]\n",
      "At (  10, -78, -10)    race:Black o  gender:M           age:39      Expression: [10.6,13.6] Z-score: [ 0.6, 0.9]\n",
      "At (  16, -95,  -7)    race:Black o  gender:M           age:39      Expression: [ 9.6,13.0] Z-score: [-1.7,-0.8]\n",
      "At (  14, -62,  12)    race:Black o  gender:M           age:39      Expression: [10.1,13.4] Z-score: [-0.6, 0.3]\n",
      "At (  11, -76,  13)    race:Black o  gender:M           age:39      Expression: [10.2,13.5] Z-score: [-0.4, 0.5]\n",
      "At (   0, -95,   1)    race:Black o  gender:M           age:39      Expression: [10.4,13.3] Z-score: [ 0.1,-0.0]\n",
      "At ( -10, -92, -16)    race:Black o  gender:M           age:39      Expression: [10.2,13.3] Z-score: [-0.4,-0.1]\n"
     ]
    }
   ],
   "source": [
    "features = atlas.query_data(\n",
    "    modality=modalities.GeneExpression,\n",
    "    gene=gene_names.GABARAPL2)\n",
    "for feature in features:\n",
    "    print(feature)"
   ]
  },
  {
   "cell_type": "code",
   "execution_count": 15,
   "metadata": {},
   "outputs": [
    {
     "name": "stderr",
     "output_type": "stream",
     "text": [
      "INFO:root:Selected region Ch 123 (Basal Forebrain) - left hemisphere\n",
      "pixdim[0] (qfac) should be 1 (default) or -1; setting qfac to 1\n",
      "INFO:nibabel.global:pixdim[0] (qfac) should be 1 (default) or -1; setting qfac to 1\n"
     ]
    },
    {
     "name": "stdout",
     "output_type": "stream",
     "text": [
      "Loading template image for space MNI 152 ICBM 2009c Nonlinear Asymmetric\n",
      "Computing the mask for Ch 123 (Basal Forebrain) - left hemisphere in MNI 152 ICBM 2009c Nonlinear Asymmetric\n",
      "Loading 3D map for space  MNI 152 ICBM 2009c Nonlinear Asymmetric\n"
     ]
    },
    {
     "name": "stderr",
     "output_type": "stream",
     "text": [
      "INFO:root:Selected region Ch 123 (Basal Forebrain) - right hemisphere\n",
      "pixdim[0] (qfac) should be 1 (default) or -1; setting qfac to 1\n",
      "INFO:nibabel.global:pixdim[0] (qfac) should be 1 (default) or -1; setting qfac to 1\n"
     ]
    },
    {
     "name": "stdout",
     "output_type": "stream",
     "text": [
      "Loading template image for space MNI 152 ICBM 2009c Nonlinear Asymmetric\n",
      "Computing the mask for Ch 123 (Basal Forebrain) - right hemisphere in MNI 152 ICBM 2009c Nonlinear Asymmetric\n",
      "Loading 3D map for space  MNI 152 ICBM 2009c Nonlinear Asymmetric\n"
     ]
    },
    {
     "name": "stderr",
     "output_type": "stream",
     "text": [
      "INFO:root:Selected region Ch 4 (Basal Forebrain) - left hemisphere\n",
      "pixdim[0] (qfac) should be 1 (default) or -1; setting qfac to 1\n",
      "INFO:nibabel.global:pixdim[0] (qfac) should be 1 (default) or -1; setting qfac to 1\n"
     ]
    },
    {
     "name": "stdout",
     "output_type": "stream",
     "text": [
      "Loading template image for space MNI 152 ICBM 2009c Nonlinear Asymmetric\n",
      "Computing the mask for Ch 4 (Basal Forebrain) - left hemisphere in MNI 152 ICBM 2009c Nonlinear Asymmetric\n",
      "Loading 3D map for space  MNI 152 ICBM 2009c Nonlinear Asymmetric\n"
     ]
    },
    {
     "name": "stderr",
     "output_type": "stream",
     "text": [
      "INFO:root:Selected region Ch 4 (Basal Forebrain) - right hemisphere\n",
      "pixdim[0] (qfac) should be 1 (default) or -1; setting qfac to 1\n",
      "INFO:nibabel.global:pixdim[0] (qfac) should be 1 (default) or -1; setting qfac to 1\n"
     ]
    },
    {
     "name": "stdout",
     "output_type": "stream",
     "text": [
      "Loading template image for space MNI 152 ICBM 2009c Nonlinear Asymmetric\n",
      "Computing the mask for Ch 4 (Basal Forebrain) - right hemisphere in MNI 152 ICBM 2009c Nonlinear Asymmetric\n",
      "Loading 3D map for space  MNI 152 ICBM 2009c Nonlinear Asymmetric\n"
     ]
    },
    {
     "name": "stderr",
     "output_type": "stream",
     "text": [
      "INFO:root:Selected region Ch 123 (Basal Forebrain) - left hemisphere\n",
      "pixdim[0] (qfac) should be 1 (default) or -1; setting qfac to 1\n",
      "INFO:nibabel.global:pixdim[0] (qfac) should be 1 (default) or -1; setting qfac to 1\n"
     ]
    },
    {
     "name": "stdout",
     "output_type": "stream",
     "text": [
      "Loading template image for space MNI 152 ICBM 2009c Nonlinear Asymmetric\n",
      "Computing the mask for Ch 123 (Basal Forebrain) - left hemisphere in MNI 152 ICBM 2009c Nonlinear Asymmetric\n",
      "Loading 3D map for space  MNI 152 ICBM 2009c Nonlinear Asymmetric\n"
     ]
    },
    {
     "name": "stderr",
     "output_type": "stream",
     "text": [
      "INFO:root:Selected region Ch 123 (Basal Forebrain) - right hemisphere\n",
      "pixdim[0] (qfac) should be 1 (default) or -1; setting qfac to 1\n",
      "INFO:nibabel.global:pixdim[0] (qfac) should be 1 (default) or -1; setting qfac to 1\n"
     ]
    },
    {
     "name": "stdout",
     "output_type": "stream",
     "text": [
      "Loading template image for space MNI 152 ICBM 2009c Nonlinear Asymmetric\n",
      "Computing the mask for Ch 123 (Basal Forebrain) - right hemisphere in MNI 152 ICBM 2009c Nonlinear Asymmetric\n",
      "Loading 3D map for space  MNI 152 ICBM 2009c Nonlinear Asymmetric\n"
     ]
    },
    {
     "name": "stderr",
     "output_type": "stream",
     "text": [
      "INFO:root:Selected region LB (Amygdala) - left hemisphere\n",
      "pixdim[0] (qfac) should be 1 (default) or -1; setting qfac to 1\n",
      "INFO:nibabel.global:pixdim[0] (qfac) should be 1 (default) or -1; setting qfac to 1\n"
     ]
    },
    {
     "name": "stdout",
     "output_type": "stream",
     "text": [
      "Loading template image for space MNI 152 ICBM 2009c Nonlinear Asymmetric\n",
      "Computing the mask for LB (Amygdala) - left hemisphere in MNI 152 ICBM 2009c Nonlinear Asymmetric\n",
      "Loading 3D map for space  MNI 152 ICBM 2009c Nonlinear Asymmetric\n"
     ]
    },
    {
     "ename": "AssertionError",
     "evalue": "",
     "output_type": "error",
     "traceback": [
      "\u001b[0;31m---------------------------------------------------------------------------\u001b[0m",
      "\u001b[0;31mAssertionError\u001b[0m                            Traceback (most recent call last)",
      "\u001b[0;32m<ipython-input-15-2ff3f2de363c>\u001b[0m in \u001b[0;36m<module>\u001b[0;34m\u001b[0m\n\u001b[1;32m      1\u001b[0m \u001b[0;32mfor\u001b[0m \u001b[0mregion\u001b[0m \u001b[0;32min\u001b[0m \u001b[0matlas\u001b[0m\u001b[0;34m.\u001b[0m\u001b[0mregiontree\u001b[0m\u001b[0;34m.\u001b[0m\u001b[0mleaves\u001b[0m\u001b[0;34m:\u001b[0m\u001b[0;34m\u001b[0m\u001b[0;34m\u001b[0m\u001b[0m\n\u001b[1;32m      2\u001b[0m     \u001b[0matlas\u001b[0m\u001b[0;34m.\u001b[0m\u001b[0mselect_region\u001b[0m\u001b[0;34m(\u001b[0m\u001b[0mregion\u001b[0m\u001b[0;34m)\u001b[0m\u001b[0;34m\u001b[0m\u001b[0;34m\u001b[0m\u001b[0m\n\u001b[0;32m----> 3\u001b[0;31m     \u001b[0mprops\u001b[0m \u001b[0;34m=\u001b[0m \u001b[0matlas\u001b[0m\u001b[0;34m.\u001b[0m\u001b[0mregionprops\u001b[0m\u001b[0;34m(\u001b[0m\u001b[0mspaces\u001b[0m\u001b[0;34m.\u001b[0m\u001b[0mMNI_152_ICBM_2009C_NONLINEAR_ASYMMETRIC\u001b[0m\u001b[0;34m)\u001b[0m\u001b[0;34m\u001b[0m\u001b[0;34m\u001b[0m\u001b[0m\n\u001b[0m",
      "\u001b[0;32m~/src/brainscapes/brainscapes/atlas.py\u001b[0m in \u001b[0;36mregionprops\u001b[0;34m(self, space)\u001b[0m\n\u001b[1;32m    305\u001b[0m         \"\"\"\n\u001b[1;32m    306\u001b[0m \u001b[0;34m\u001b[0m\u001b[0m\n\u001b[0;32m--> 307\u001b[0;31m         \u001b[0;32mreturn\u001b[0m \u001b[0mRegionProps\u001b[0m\u001b[0;34m(\u001b[0m\u001b[0mself\u001b[0m\u001b[0;34m,\u001b[0m\u001b[0mspace\u001b[0m\u001b[0;34m)\u001b[0m\u001b[0;34m\u001b[0m\u001b[0;34m\u001b[0m\u001b[0m\n\u001b[0m\u001b[1;32m    308\u001b[0m \u001b[0;34m\u001b[0m\u001b[0m\n\u001b[1;32m    309\u001b[0m     \u001b[0;32mdef\u001b[0m \u001b[0mconnectivity_matrix\u001b[0m\u001b[0;34m(\u001b[0m\u001b[0mself\u001b[0m\u001b[0;34m,\u001b[0m \u001b[0msrcname\u001b[0m\u001b[0;34m)\u001b[0m\u001b[0;34m:\u001b[0m\u001b[0;34m\u001b[0m\u001b[0;34m\u001b[0m\u001b[0m\n",
      "\u001b[0;32m~/src/brainscapes/brainscapes/features/regionprops.py\u001b[0m in \u001b[0;36m__init__\u001b[0;34m(self, atlas, space)\u001b[0m\n\u001b[1;32m     42\u001b[0m         \u001b[0;31m# as a list\u001b[0m\u001b[0;34m\u001b[0m\u001b[0;34m\u001b[0m\u001b[0;34m\u001b[0m\u001b[0m\n\u001b[1;32m     43\u001b[0m         \u001b[0mrprops\u001b[0m \u001b[0;34m=\u001b[0m \u001b[0mmeasure\u001b[0m\u001b[0;34m.\u001b[0m\u001b[0mregionprops\u001b[0m\u001b[0;34m(\u001b[0m\u001b[0mM\u001b[0m\u001b[0;34m)\u001b[0m\u001b[0;34m\u001b[0m\u001b[0;34m\u001b[0m\u001b[0m\n\u001b[0;32m---> 44\u001b[0;31m         \u001b[0;32massert\u001b[0m\u001b[0;34m(\u001b[0m\u001b[0mlen\u001b[0m\u001b[0;34m(\u001b[0m\u001b[0mrprops\u001b[0m\u001b[0;34m)\u001b[0m\u001b[0;34m==\u001b[0m\u001b[0;36m1\u001b[0m\u001b[0;34m)\u001b[0m\u001b[0;34m\u001b[0m\u001b[0;34m\u001b[0m\u001b[0m\n\u001b[0m\u001b[1;32m     45\u001b[0m         \u001b[0mself\u001b[0m\u001b[0;34m.\u001b[0m\u001b[0mattrs\u001b[0m \u001b[0;34m=\u001b[0m \u001b[0;34m{\u001b[0m\u001b[0;34m}\u001b[0m\u001b[0;34m\u001b[0m\u001b[0;34m\u001b[0m\u001b[0m\n\u001b[1;32m     46\u001b[0m         \u001b[0;32mfor\u001b[0m \u001b[0mprop\u001b[0m \u001b[0;32min\u001b[0m \u001b[0mrprops\u001b[0m\u001b[0;34m[\u001b[0m\u001b[0;36m0\u001b[0m\u001b[0;34m]\u001b[0m\u001b[0;34m:\u001b[0m\u001b[0;34m\u001b[0m\u001b[0;34m\u001b[0m\u001b[0m\n",
      "\u001b[0;31mAssertionError\u001b[0m: "
     ]
    }
   ],
   "source": [
    "for region in atlas.regiontree.leaves:\n",
    "    atlas.select_region(region)\n",
    "    props = atlas.regionprops(spaces.MNI_152_ICBM_2009C_NONLINEAR_ASYMMETRIC)"
   ]
  },
  {
   "cell_type": "code",
   "execution_count": 8,
   "metadata": {},
   "outputs": [
    {
     "data": {
      "text/plain": [
       "['ConnectivityProfile', 'GeneExpression', 'ReceptorDistribution']"
      ]
     },
     "execution_count": 8,
     "metadata": {},
     "output_type": "execute_result"
    }
   ],
   "source": [
    "modalities"
   ]
  },
  {
   "cell_type": "code",
   "execution_count": 9,
   "metadata": {},
   "outputs": [
    {
     "data": {
      "text/plain": [
       "'ConnectivityProfile'"
      ]
     },
     "execution_count": 9,
     "metadata": {},
     "output_type": "execute_result"
    }
   ],
   "source": [
    "modalities[0]"
   ]
  },
  {
   "cell_type": "code",
   "execution_count": 15,
   "metadata": {},
   "outputs": [],
   "source": [
    "ft = pools[modalities[0]][0]._FEATURETYPE"
   ]
  },
  {
   "cell_type": "code",
   "execution_count": 19,
   "metadata": {},
   "outputs": [
    {
     "ename": "NameError",
     "evalue": "name 'RegionalFeature' is not defined",
     "output_type": "error",
     "traceback": [
      "\u001b[0;31m---------------------------------------------------------------------------\u001b[0m",
      "\u001b[0;31mNameError\u001b[0m                                 Traceback (most recent call last)",
      "\u001b[0;32m<ipython-input-19-75d7e74560a1>\u001b[0m in \u001b[0;36m<module>\u001b[0;34m\u001b[0m\n\u001b[0;32m----> 1\u001b[0;31m \u001b[0mRegionalFeature\u001b[0m \u001b[0;32min\u001b[0m \u001b[0mft\u001b[0m\u001b[0;34m.\u001b[0m\u001b[0m__bases__\u001b[0m\u001b[0;34m\u001b[0m\u001b[0;34m\u001b[0m\u001b[0m\n\u001b[0m",
      "\u001b[0;31mNameError\u001b[0m: name 'RegionalFeature' is not defined"
     ]
    }
   ],
   "source": [
    "RegionalFeature in ft.__bases__"
   ]
  },
  {
   "cell_type": "code",
   "execution_count": 21,
   "metadata": {},
   "outputs": [
    {
     "ename": "ImportError",
     "evalue": "cannot import name 'GlobalFeature' from 'brainscapes.features.feature' (/Users/tdickscheid/src/brainscapes/brainscapes/features/feature.py)",
     "output_type": "error",
     "traceback": [
      "\u001b[0;31m---------------------------------------------------------------------------\u001b[0m",
      "\u001b[0;31mImportError\u001b[0m                               Traceback (most recent call last)",
      "\u001b[0;32m<ipython-input-21-4832af8b40fd>\u001b[0m in \u001b[0;36m<module>\u001b[0;34m\u001b[0m\n\u001b[0;32m----> 1\u001b[0;31m \u001b[0;32mfrom\u001b[0m \u001b[0mbrainscapes\u001b[0m\u001b[0;34m.\u001b[0m\u001b[0mfeatures\u001b[0m\u001b[0;34m.\u001b[0m\u001b[0mfeature\u001b[0m \u001b[0;32mimport\u001b[0m \u001b[0mGlobalFeature\u001b[0m\u001b[0;34m\u001b[0m\u001b[0;34m\u001b[0m\u001b[0m\n\u001b[0m",
      "\u001b[0;31mImportError\u001b[0m: cannot import name 'GlobalFeature' from 'brainscapes.features.feature' (/Users/tdickscheid/src/brainscapes/brainscapes/features/feature.py)"
     ]
    }
   ],
   "source": [
    "from brainscapes.features.feature import GlobalFeature"
   ]
  },
  {
   "cell_type": "code",
   "execution_count": null,
   "metadata": {},
   "outputs": [],
   "source": [
    " "
   ]
  }
 ],
 "metadata": {
  "kernelspec": {
   "display_name": "Python 3",
   "language": "python",
   "name": "python3"
  },
  "language_info": {
   "codemirror_mode": {
    "name": "ipython",
    "version": 3
   },
   "file_extension": ".py",
   "mimetype": "text/x-python",
   "name": "python",
   "nbconvert_exporter": "python",
   "pygments_lexer": "ipython3",
   "version": "3.8.3"
  }
 },
 "nbformat": 4,
 "nbformat_minor": 4
}
