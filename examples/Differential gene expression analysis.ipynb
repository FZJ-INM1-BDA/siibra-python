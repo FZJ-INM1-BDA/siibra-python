{
 "cells": [
  {
   "cell_type": "markdown",
   "metadata": {},
   "source": [
    "### Some initial preparations\n",
    "\n",
    "We install the brainscapes library, and set an EBRAINS Knowledge Graph authentication token the we can request  [here](https://nexus-iam.humanbrainproject.org/v0/oauth2/authorize) after creating an HBP account."
   ]
  },
  {
   "cell_type": "code",
   "execution_count": 1,
   "metadata": {},
   "outputs": [
    {
     "name": "stdout",
     "output_type": "stream",
     "text": [
      "zsh:1: command not found: pip\r\n"
     ]
    }
   ],
   "source": [
    "!pip install brainscapes\n",
    "from os import environ\n",
    "environ['HBP_AUTH_TOKEN'] = \"<<<Paste your HBP auth token here>>>\""
   ]
  },
  {
   "cell_type": "markdown",
   "metadata": {},
   "source": [
    "### 1. Instantiate human brain atlas with Julich-Brain cytoarchitectonic maps\n",
    "\n",
    "We instantiate the human atlas, and tell it to prefer thresholded continous maps over labelled regions in the discrete parcellation map. For the Julich-Brain parcellation, this mean that it will use thresholded probability maps, if available."
   ]
  },
  {
   "cell_type": "code",
   "execution_count": 1,
   "metadata": {},
   "outputs": [],
   "source": [
    "import brainscapes as bs\n",
    "bs.logger.setLevel(\"INFO\") # we want to see some messages!"
   ]
  },
  {
   "cell_type": "code",
   "execution_count": 2,
   "metadata": {},
   "outputs": [
    {
     "name": "stderr",
     "output_type": "stream",
     "text": [
      "[brainscapes:INFO]  Selected parcellation \"Julich-Brain Probabilistic Cytoarchitectonic Maps (v2.5)\"\n"
     ]
    }
   ],
   "source": [
    "atlas = bs.atlases.MULTILEVEL_HUMAN_ATLAS\n",
    "\n",
    "# next line is optional - cytoarchitectonic maps are selected by default\n",
    "atlas.select_parcellation(bs.parcellations.JULICH_BRAIN_PROBABILISTIC_CYTOARCHITECTONIC_MAPS_V2_5_)\n",
    "\n",
    "# as in the original JuGEx, we prefer thresholded probability maps \n",
    "# over the labelled region in the maximum probability map\n",
    "atlas.enable_continuous_map_thresholding(0.2)"
   ]
  },
  {
   "cell_type": "markdown",
   "metadata": {},
   "source": [
    "### 2. Instantiate a differential gene expression analysis with this atlas\n",
    "\n",
    "The analysis object will check if the parcellation selected in the atlas is suitable for the analysis. What it does in fact, is to verify that it provides maps in the MNI ICBM 152 space. We add a few candidate genes that we're interested in. They could also be added right away as a list to the constructor in the first line below. Then we select two regions of interest (ROI) by specifying brain area names that the atlas can interpret."
   ]
  },
  {
   "cell_type": "code",
   "execution_count": 3,
   "metadata": {},
   "outputs": [
    {
     "name": "stderr",
     "output_type": "stream",
     "text": [
      "[brainscapes:INFO]  Selected region Area hOc1 (V1, 17, CalcS) - right hemisphere\n",
      "[brainscapes:INFO]  Retrieving probe ids for gene MAOA\n",
      "[brainscapes:INFO]  Using continuous map thresholded by 0.2 for masking region Area hOc1 (V1, 17, CalcS) - right hemisphere.\n",
      "[brainscapes:INFO]  Retrieving probe ids for gene TAC1\n",
      "[brainscapes:INFO]  13 samples found for region v1 right.\n",
      "[brainscapes:INFO]  Selected region Area hOc2 (V2, 18) - right hemisphere\n",
      "[brainscapes:INFO]  Retrieving probe ids for gene MAOA\n",
      "[brainscapes:INFO]  Using continuous map thresholded by 0.2 for masking region Area hOc2 (V2, 18) - right hemisphere.\n",
      "[brainscapes:INFO]  Retrieving probe ids for gene TAC1\n",
      "[brainscapes:INFO]  13 samples found for region v2 right.\n"
     ]
    }
   ],
   "source": [
    "jugex = bs.analysis.DifferentialGeneExpression(atlas)\n",
    "jugex.add_candidate_gene(bs.features.gene_names.MAOA)\n",
    "jugex.add_candidate_gene(bs.features.gene_names.TAC1)\n",
    "jugex.define_roi1(\"v1 right\")\n",
    "jugex.define_roi2(\"v2 right\")"
   ]
  },
  {
   "cell_type": "markdown",
   "metadata": {},
   "source": [
    "### 3. Look at the samples"
   ]
  },
  {
   "cell_type": "code",
   "execution_count": 5,
   "metadata": {},
   "outputs": [
    {
     "data": {
      "text/plain": [
       "defaultdict(dict,\n",
       "            {(11.124800000000008,\n",
       "              -70.751,\n",
       "              15.294900000000005): {'race': 'Black or African American', 'gender': 'M', 'age': 24, 'name': 'H0351.2001', 'id': 9861, 'area': 'Area hOc1 (V1, 17, CalcS) - right hemisphere', 'MAOA': -0.08148064516129032, 'TAC1': -0.5691076923076923},\n",
       "             (7.2579000000000065,\n",
       "              -98.01410000000001,\n",
       "              7.96520000000001): {'race': 'Black or African American', 'gender': 'M', 'age': 24, 'name': 'H0351.2001', 'id': 9861, 'area': 'Area hOc1 (V1, 17, CalcS) - right hemisphere', 'MAOA': 0.25943548387096776, 'TAC1': -0.5396},\n",
       "             (7.040199999999999,\n",
       "              -65.2882,\n",
       "              2.959500000000002): {'race': 'Black or African American', 'gender': 'M', 'age': 24, 'name': 'H0351.2001', 'id': 9861, 'area': 'Area hOc1 (V1, 17, CalcS) - right hemisphere', 'MAOA': -0.5113903225806451, 'TAC1': -0.514223076923077},\n",
       "             (29.423100000000005,\n",
       "              -56.66350000000003,\n",
       "              0.7585000000000086): {'race': 'Black or African American', 'gender': 'M', 'age': 24, 'name': 'H0351.2001', 'id': 9861, 'area': 'Area hOc1 (V1, 17, CalcS) - right hemisphere', 'MAOA': 0.3363677419354839, 'TAC1': -0.5286307692307692},\n",
       "             (8.156199999999998,\n",
       "              -63.0103,\n",
       "              11.532800000000005): {'race': 'Black or African American', 'gender': 'M', 'age': 24, 'name': 'H0351.2001', 'id': 9861, 'area': 'Area hOc1 (V1, 17, CalcS) - right hemisphere', 'MAOA': -0.024919354838709686, 'TAC1': -0.7656923076923078},\n",
       "             (13.1768,\n",
       "              -72.95360000000001,\n",
       "              6.783100000000001): {'race': 'Black or African American', 'gender': 'M', 'age': 24, 'name': 'H0351.2001', 'id': 9861, 'area': 'Area hOc1 (V1, 17, CalcS) - right hemisphere', 'MAOA': 0.40561290322580645, 'TAC1': -1.0235},\n",
       "             (12.120800000000003,\n",
       "              -72.97870000000002,\n",
       "              6.762599999999999): {'race': 'Black or African American', 'gender': 'M', 'age': 24, 'name': 'H0351.2001', 'id': 9861, 'area': 'Area hOc1 (V1, 17, CalcS) - right hemisphere', 'MAOA': 0.2083903225806452, 'TAC1': -0.9423615384615385},\n",
       "             (13.156000000000006,\n",
       "              -76.05600000000001,\n",
       "              15.592300000000009): {'race': 'Black or African American', 'gender': 'M', 'age': 39, 'name': 'H0351.2002', 'id': 10021, 'area': 'Area hOc1 (V1, 17, CalcS) - right hemisphere', 'MAOA': -0.5594032258064516, 'TAC1': 0.1210923076923077},\n",
       "             (18.062799999999996,\n",
       "              -95.3886,\n",
       "              -8.601599999999987): {'race': 'Black or African American', 'gender': 'M', 'age': 39, 'name': 'H0351.2002', 'id': 10021, 'area': 'Area hOc1 (V1, 17, CalcS) - right hemisphere', 'MAOA': -0.451441935483871, 'TAC1': 0.13146923076923078},\n",
       "             (9.747400000000013,\n",
       "              -64.50690000000003,\n",
       "              2.7362000000000126): {'race': 'Black or African American', 'gender': 'M', 'age': 39, 'name': 'H0351.2002', 'id': 10021, 'area': 'Area hOc1 (V1, 17, CalcS) - right hemisphere', 'MAOA': -0.44444193548387095, 'TAC1': 0.1862692307692308},\n",
       "             (15.81219999999999,\n",
       "              -95.3871,\n",
       "              -7.427999999999983): {'race': 'Black or African American', 'gender': 'M', 'age': 39, 'name': 'H0351.2002', 'id': 10021, 'area': 'Area hOc1 (V1, 17, CalcS) - right hemisphere', 'MAOA': -0.5011677419354837, 'TAC1': 0.1937},\n",
       "             (14.12899999999999,\n",
       "              -61.93530000000001,\n",
       "              11.955200000000021): {'race': 'Black or African American', 'gender': 'M', 'age': 39, 'name': 'H0351.2002', 'id': 10021, 'area': 'Area hOc1 (V1, 17, CalcS) - right hemisphere', 'MAOA': -0.3102612903225807, 'TAC1': 0.03406153846153846},\n",
       "             (10.933599999999998,\n",
       "              -76.17240000000001,\n",
       "              13.23670000000002): {'race': 'Black or African American', 'gender': 'M', 'age': 39, 'name': 'H0351.2002', 'id': 10021, 'area': 'Area hOc1 (V1, 17, CalcS) - right hemisphere', 'MAOA': -0.33072258064516125, 'TAC1': 0.22651538461538462}})"
      ]
     },
     "execution_count": 5,
     "metadata": {},
     "output_type": "execute_result"
    }
   ],
   "source": [
    "jugex.samples1"
   ]
  },
  {
   "cell_type": "markdown",
   "metadata": {},
   "source": [
    "### 4. Run the analysis\n",
    "\n",
    "We are now setup to run the analysis."
   ]
  },
  {
   "cell_type": "code",
   "execution_count": 4,
   "metadata": {},
   "outputs": [
    {
     "name": "stderr",
     "output_type": "stream",
     "text": [
      "[brainscapes:INFO]  Using random seed 42.\n",
      "[brainscapes:INFO]  Running 1000 random permutations. This may take a while...\n"
     ]
    },
    {
     "name": "stdout",
     "output_type": "stream",
     "text": [
      "{'MAOA': 0.572, 'TAC1': 0.076}\n"
     ]
    }
   ],
   "source": [
    "jugex.run(permutations=1000,random_seed=42)\n",
    "print(jugex.result)"
   ]
  },
  {
   "cell_type": "code",
   "execution_count": null,
   "metadata": {},
   "outputs": [],
   "source": []
  }
 ],
 "metadata": {
  "kernelspec": {
   "display_name": "Python 3",
   "language": "python",
   "name": "python3"
  },
  "language_info": {
   "codemirror_mode": {
    "name": "ipython",
    "version": 3
   },
   "file_extension": ".py",
   "mimetype": "text/x-python",
   "name": "python",
   "nbconvert_exporter": "python",
   "pygments_lexer": "ipython3",
   "version": "3.9.1"
  }
 },
 "nbformat": 4,
 "nbformat_minor": 4
}
