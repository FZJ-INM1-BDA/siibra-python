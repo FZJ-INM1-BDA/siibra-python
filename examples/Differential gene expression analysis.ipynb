{
 "cells": [
  {
   "cell_type": "markdown",
   "metadata": {},
   "source": [
    "### Some initial preparations\n",
    "\n",
    "We install the brainscapes library, and set an EBRAINS Knowledge Graph authentication token the we can request  [here](https://nexus-iam.humanbrainproject.org/v0/oauth2/authorize) after creating an HBP account."
   ]
  },
  {
   "cell_type": "code",
   "execution_count": null,
   "metadata": {},
   "outputs": [],
   "source": [
    "!pip install brainscapes\n",
    "from os import environ\n",
    "environ['HBP_AUTH_TOKEN'] = \"your auth token here\""
   ]
  },
  {
   "cell_type": "markdown",
   "metadata": {},
   "source": [
    "### 1. Instantiate human brain atlas with Julich-Brain cytoarchitectonic maps\n",
    "\n",
    "We instantiate the human atlas, and tell it to prefer thresholded continous maps over labelled regions in the discrete parcellation map. For the Julich-Brain parcellation, this mean that it will use thresholded probability maps, if available."
   ]
  },
  {
   "cell_type": "code",
   "execution_count": 1,
   "metadata": {},
   "outputs": [],
   "source": [
    "import brainscapes as bs\n",
    "bs.logger.setLevel(\"INFO\") # we want to see some messages!"
   ]
  },
  {
   "cell_type": "code",
   "execution_count": 2,
   "metadata": {},
   "outputs": [
    {
     "name": "stderr",
     "output_type": "stream",
     "text": [
      "[brainscapes:INFO]  Selected parcellation \"Julich-Brain Probabilistic Cytoarchitectonic Maps (v2.5)\"\n"
     ]
    }
   ],
   "source": [
    "atlas = bs.atlases.MULTILEVEL_HUMAN_ATLAS\n",
    "# next line is optional - cytoarchitectonic maps are selected by default\n",
    "atlas.select_parcellation(bs.parcellations.JULICH_BRAIN_PROBABILISTIC_CYTOARCHITECTONIC_MAPS_V2_5_)\n",
    "atlas.enable_continuous_map_thresholding(0.2)"
   ]
  },
  {
   "cell_type": "markdown",
   "metadata": {},
   "source": [
    "### 2. Instantiate a differential gene expression analysis with this atlas\n",
    "\n",
    "The analysis object will check if the parcellation selected in the atlas is suitable for the analysis. What it does in fact, is to verify that it provides maps in the MNI ICBM 152 space. \n",
    "\n",
    "We add a few candidate genes that we're interested in. They could also be added right away as a list to the constructor in the first line below.\n",
    "\n",
    "Then we select two regions of interest (ROI) by specifying brain area names that the atlas can interpret."
   ]
  },
  {
   "cell_type": "code",
   "execution_count": 7,
   "metadata": {},
   "outputs": [
    {
     "name": "stderr",
     "output_type": "stream",
     "text": [
      "[brainscapes:INFO]  Selected region Area hOc1 (V1, 17, CalcS) - right hemisphere\n",
      "[brainscapes:INFO]  Retrieving probe ids for gene MAOA\n"
     ]
    },
    {
     "name": "stdout",
     "output_type": "stream",
     "text": [
      "Using continuous map thresholded by 0.2 for masking region Area hOc1 (V1, 17, CalcS) - right hemisphere.\n"
     ]
    },
    {
     "name": "stderr",
     "output_type": "stream",
     "text": [
      "[brainscapes:INFO]  Retrieving probe ids for gene TAC1\n",
      "[brainscapes:INFO]  13 samples found for region v1 right.\n",
      "[brainscapes:INFO]  Selected region Area hOc2 (V2, 18) - right hemisphere\n",
      "[brainscapes:INFO]  Retrieving probe ids for gene MAOA\n"
     ]
    },
    {
     "name": "stdout",
     "output_type": "stream",
     "text": [
      "Using continuous map thresholded by 0.2 for masking region Area hOc2 (V2, 18) - right hemisphere.\n"
     ]
    },
    {
     "name": "stderr",
     "output_type": "stream",
     "text": [
      "[brainscapes:INFO]  Retrieving probe ids for gene TAC1\n",
      "[brainscapes:INFO]  13 samples found for region v2 right.\n"
     ]
    }
   ],
   "source": [
    "jugex = bs.analysis.DifferentialGeneExpression(atlas)\n",
    "jugex.add_candidate_gene(bs.features.gene_names.MAOA)\n",
    "jugex.add_candidate_gene(bs.features.gene_names.TAC1)\n",
    "jugex.define_roi1(\"v1 right\")\n",
    "jugex.define_roi2(\"v2 right\")"
   ]
  },
  {
   "cell_type": "markdown",
   "metadata": {},
   "source": [
    "### 3. Run the analysis\n",
    "\n",
    "Now we actually run the analysis, providing a number of permutations."
   ]
  },
  {
   "cell_type": "code",
   "execution_count": 8,
   "metadata": {},
   "outputs": [
    {
     "name": "stderr",
     "output_type": "stream",
     "text": [
      "[brainscapes:INFO]  Running 1000 random permutations. This may take a while...\n"
     ]
    },
    {
     "name": "stdout",
     "output_type": "stream",
     "text": [
      "{'MAOA': 0.553, 'TAC1': 0.081}\n"
     ]
    }
   ],
   "source": [
    "jugex.run(permutations=1000)\n",
    "print(jugex.result)"
   ]
  }
 ],
 "metadata": {
  "kernelspec": {
   "display_name": "Python 3",
   "language": "python",
   "name": "python3"
  },
  "language_info": {
   "codemirror_mode": {
    "name": "ipython",
    "version": 3
   },
   "file_extension": ".py",
   "mimetype": "text/x-python",
   "name": "python",
   "nbconvert_exporter": "python",
   "pygments_lexer": "ipython3",
   "version": "3.9.1"
  }
 },
 "nbformat": 4,
 "nbformat_minor": 4
}
