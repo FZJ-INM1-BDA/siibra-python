{
 "cells": [
  {
   "cell_type": "markdown",
   "id": "e030ae67",
   "metadata": {},
   "source": [
    "You  might want to install siibra first:"
   ]
  },
  {
   "cell_type": "code",
   "execution_count": null,
   "id": "9ca2ab77",
   "metadata": {},
   "outputs": [],
   "source": [
    "!pip install siibra"
   ]
  },
  {
   "cell_type": "code",
   "execution_count": null,
   "id": "9bcab3f0",
   "metadata": {},
   "outputs": [],
   "source": [
    "import siibra\n",
    "from nilearn import plotting"
   ]
  },
  {
   "cell_type": "markdown",
   "id": "22e8f4d6",
   "metadata": {},
   "source": [
    "## Basic access to brain maps"
   ]
  },
  {
   "cell_type": "code",
   "execution_count": null,
   "id": "f76c8b36",
   "metadata": {},
   "outputs": [],
   "source": [
    "atlas = siibra.atlases.MULTILEVEL_HUMAN_ATLAS\n",
    "icbm_map = atlas.get_map(space=\"mni152\")\n",
    "for m in icbm_map.fetchall():\n",
    "    plotting.plot_stat_map(m)"
   ]
  },
  {
   "cell_type": "code",
   "execution_count": null,
   "id": "9f031249",
   "metadata": {},
   "outputs": [],
   "source": [
    "atlas.select(region=\"hOc1 left\")\n",
    "pmap = atlas.selected_region.get_regional_map(\"mni152\",\"continuous\")\n",
    "plotting.plot_stat_map(pmap.fetch())"
   ]
  },
  {
   "cell_type": "markdown",
   "id": "5822edbe",
   "metadata": {},
   "source": [
    "## Basic access to regional data features"
   ]
  },
  {
   "cell_type": "code",
   "execution_count": null,
   "id": "11f0dd27",
   "metadata": {},
   "outputs": [],
   "source": [
    "import webbrowser\n",
    "webbrowser.open('https://nexus-iam.humanbrainproject.org/v0/oauth2/authorize')\n",
    "token = input(\"Enter your token here, then press 'Enter': \")\n",
    "siibra.set_ebrains_token(token)"
   ]
  },
  {
   "cell_type": "code",
   "execution_count": null,
   "id": "9211b659",
   "metadata": {},
   "outputs": [],
   "source": [
    "receptors = atlas.get_features(siibra.modalities.ReceptorDistribution)\n",
    "for dataset in receptors:\n",
    "    dataset.plot()"
   ]
  },
  {
   "cell_type": "markdown",
   "id": "35bf0d2e",
   "metadata": {},
   "source": [
    "## Basic access to BigBrain 20 micron data"
   ]
  },
  {
   "cell_type": "code",
   "execution_count": null,
   "id": "4eabf959",
   "metadata": {},
   "outputs": [],
   "source": [
    "minpt = (0.979, -59.256, 1.06)\n",
    "maxpt = (5.863, -55.356, -2.487)\n",
    "#minpt = (-3.979, -61.256, 3.906)\n",
    "#maxpt = (5.863, -55.356, -2.487)\n",
    "res_mm = 0.02"
   ]
  },
  {
   "cell_type": "code",
   "execution_count": null,
   "id": "c7f2b45e",
   "metadata": {},
   "outputs": [],
   "source": [
    "bigbrain = siibra.spaces['bigbrain']\n",
    "voi = bigbrain.get_voi(minpt,maxpt)\n",
    "chunk = bigbrain.get_template().fetch(resolution_mm=res_mm,voi=voi)\n",
    "plotting.view_img(chunk,None,cmap='gray')"
   ]
  },
  {
   "cell_type": "code",
   "execution_count": null,
   "id": "2f36a21d",
   "metadata": {},
   "outputs": [],
   "source": [
    "layers = siibra.parcellations['cortical layers']\n",
    "voi = bigbrain.get_voi(minpt,maxpt)\n",
    "lmap = layers.get_map().fetch(resolution_mm=res_mm,voi=voi)\n",
    "plotting.view_img(lmap,chunk,opacity=.35)"
   ]
  },
  {
   "cell_type": "code",
   "execution_count": null,
   "id": "49c2a933",
   "metadata": {},
   "outputs": [],
   "source": []
  }
 ],
 "metadata": {
  "kernelspec": {
   "display_name": "Python 3",
   "language": "python",
   "name": "python3"
  },
  "language_info": {
   "codemirror_mode": {
    "name": "ipython",
    "version": 3
   },
   "file_extension": ".py",
   "mimetype": "text/x-python",
   "name": "python",
   "nbconvert_exporter": "python",
   "pygments_lexer": "ipython3",
   "version": "3.9.1"
  }
 },
 "nbformat": 4,
 "nbformat_minor": 5
}
