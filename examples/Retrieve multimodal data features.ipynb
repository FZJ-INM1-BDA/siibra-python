{
 "cells": [
  {
   "cell_type": "markdown",
   "metadata": {
    "slideshow": {
     "slide_type": "slide"
    }
   },
   "source": [
    "# Extracting multimodal data features\n",
    "\n",
    "`siibra` provides access to data features of different modalities using the `get_features` method, which accepts a feature modality and is sensitive to the selections configured in the atlas (parcellation, region). If not particular selection is made, `get_features` considers all brain regions of the current parcellation."
   ]
  },
  {
   "cell_type": "code",
   "execution_count": null,
   "metadata": {},
   "outputs": [],
   "source": [
    "import siibra\n",
    "from os import environ"
   ]
  },
  {
   "cell_type": "markdown",
   "metadata": {},
   "source": [
    "### 1. Setup `siibra` to connect to the EBRAINS Knowledge Graph access token\n",
    "\n",
    "`siibra` retrieves some data from the EBRAINS Knowledge Graph, which requires\n",
    "authentication. To do so, please follow these steps:\n",
    "\n",
    " 1. If you do not yet have an EBRAINS account, register [here](https://ebrains.eu/register). As you are reading this notebook in the EBRAINS collaboratory, this is most probably not necessary at this point.\n",
    " 2. Your EBRAINS account needs to be enabled for programmatic access to the EBRAINS Knowledge Graph to fetch metadata. This is formal step to acknowledge additional terms of use, and done quickly by emailing to the KG team. A link and template email to do so can be found right on top of the [Knowledge Graph developer page](https://kg.humanbrainproject.eu/develop.html).\n",
    " 3. Create an authentication token for EBRAINS by visiting\n",
    "[the EBRAINS authorization endpoint](https://nexus-iam.humanbrainproject.org/v0/oauth2/authorize). \n",
    " 4. Copy the token, and store it in the enviroment variable `HBP_AUTH_TOKEN` (just modify and execute the cell below accordingly).\n",
    "\n",
    "Note that as of now, you have to get a new token (steps 3. and 4.) approximately every day."
   ]
  },
  {
   "cell_type": "code",
   "execution_count": null,
   "metadata": {},
   "outputs": [],
   "source": [
    "import webbrowser\n",
    "if \"HBP_AUTH_TOKEN\" not in environ:\n",
    "    webbrowser.open('https://nexus-iam.humanbrainproject.org/v0/oauth2/authorize')\n",
    "    token = input(\"Enter your token here, then press 'Enter': \")\n",
    "    environ['HBP_AUTH_TOKEN'] = token"
   ]
  },
  {
   "cell_type": "markdown",
   "metadata": {},
   "source": [
    "### 2. Extract transmitter receptor densities\n",
    "\n",
    "Transmitter receptor density fingerprints are linked to brain regions by their name in the EBRAINS Knowledge Graph. Like any data feature, they are accessed using the `get_features` method of the atlas, which makes use of the current selection in the atlas. The `get_features` method knows from the specified data modality that the match is determined from the brain region identified. Receptor densities come as a nicely structured datatype. Amongst other things, they can visualize themselves in a plot.\n",
    "\n",
    "If we don't specify a particular selection, the atlas will return all available receptor density features linked to the parcellation map:"
   ]
  },
  {
   "cell_type": "code",
   "execution_count": null,
   "metadata": {},
   "outputs": [],
   "source": [
    "atlas = siibra.atlases['human']\n",
    "atlas.select_parcellation('julich')\n",
    "atlas.clear_selection()\n",
    "features = atlas.get_features(\n",
    "    siibra.modalities.ReceptorDistribution)\n",
    "print(\"Receptor density features found for the following regions:\")\n",
    "print(\", \".join({f.regionspec for f in features}))"
   ]
  },
  {
   "cell_type": "markdown",
   "metadata": {},
   "source": [
    "If we select a region, the returned list is filtered accordingly. "
   ]
  },
  {
   "cell_type": "code",
   "execution_count": null,
   "metadata": {},
   "outputs": [],
   "source": [
    "atlas.select_region(\"V1\")\n",
    "features = atlas.get_features(\n",
    "    siibra.modalities.ReceptorDistribution)\n",
    "for r in features:\n",
    "    fig = r.plot(r.regionspec)"
   ]
  },
  {
   "cell_type": "markdown",
   "metadata": {
    "slideshow": {
     "slide_type": "slide"
    }
   },
   "source": [
    "### 3. Extracting Gene Expressions from the Allen Atlas \n",
    "\n",
    "The atlas client can make calls to gene expression data from the Allen atlas and evaluate them in the ICBM space to find regional gene expression levels. It also has a list of available gene names for convenient selection. Gene expressions are linked to atlas regions by coordinates of their probes in MNI space. The `get_features` method detects this from the feature modality, and applies the mask of the regions that are currently selected in the atlas to filter the probes. We can visualize these filtered locations."
   ]
  },
  {
   "cell_type": "code",
   "execution_count": null,
   "metadata": {},
   "outputs": [],
   "source": [
    "atlas.select_region(\"V1\")\n",
    "features = atlas.get_features(\n",
    "    siibra.modalities.GeneExpression, \n",
    "    gene=siibra.features.gene_names.GABARAPL2)\n",
    "print(features[0])\n",
    "\n",
    "# plot\n",
    "from nilearn import plotting\n",
    "all_coords = [tuple(g.location) for g in features]\n",
    "mask = atlas.build_mask(siibra.spaces.MNI152_2009C_NONL_ASYM)\n",
    "display = plotting.plot_roi(mask)\n",
    "display.add_markers(all_coords,marker_size=5) "
   ]
  },
  {
   "cell_type": "markdown",
   "metadata": {
    "slideshow": {
     "slide_type": "slide"
    }
   },
   "source": [
    "### 4. Retrieving connectivity matrices\n",
    "For `siibra`, a connectivity matrix is a data feature like the others below, and can be found using the same `get_features` function just by choosing another modality. `siibra` knows from the modality type that this type of data does not match to the selected brain region in the atlas, but to the selected parcellation. Therefore, `get_features` return connectivity datasets that are defined for the selected parcellation. \n",
    "\n",
    "To learn about the nature of the provided connectivity, the `src_info` attribute provides a detailed description of the dataset. "
   ]
  },
  {
   "cell_type": "code",
   "execution_count": null,
   "metadata": {},
   "outputs": [],
   "source": [
    "# Get the first four connectivity matrices available for the parcellation\n",
    "features = atlas.get_features(siibra.modalities.ConnectivityMatrix)[:4]\n",
    "\n",
    "# format dataset names for use as figure titles\n",
    "from textwrap import wrap\n",
    "titleformat = lambda text : \"\\n\".join(wrap(text.replace('_',' '),20)) \n",
    "\n",
    "# plot the matrices\n",
    "import matplotlib.pyplot as plt\n",
    "%matplotlib inline\n",
    "fig = plt.figure(figsize=(12,20))\n",
    "for i,feature in enumerate(features):\n",
    "    ax = fig.add_subplot(1,len(features),i+1)\n",
    "    ax.imshow(feature.array,cmap=plt.cm.viridis)\n",
    "    ax.set_title(titleformat(feature.src_name),size=10)\n",
    "fig.show()"
   ]
  },
  {
   "cell_type": "markdown",
   "metadata": {},
   "source": [
    "### 5. Retrieving iEEG electrodes and contact points\n",
    "\n",
    "#### Query by electrode\n",
    "\n",
    "We start by querying for electrodes. Electrodes match a selected region if any of their contact points does. To see which contact points match specifically, we need to iterate electrodes."
   ]
  },
  {
   "cell_type": "code",
   "execution_count": null,
   "metadata": {},
   "outputs": [],
   "source": [
    "electrodes = atlas.get_features(siibra.modalities.IEEG_Electrode)\n",
    "\n",
    "# we grep the MNI coordinates of contact points for visualization\n",
    "contactpoints = [c for e in electrodes for c in e] \n",
    "coord = lambda contactpoint: contactpoint.location\n",
    "color = lambda contactpoint:\"red\" if contactpoint.matches(atlas) else \"gray\"\n",
    "plotting.view_markers(\n",
    "    list(map(coord,contactpoints)), # list of coordinates\n",
    "    list(map(color,contactpoints)), # list of colors\n",
    "    marker_size=3)"
   ]
  },
  {
   "cell_type": "markdown",
   "metadata": {},
   "source": [
    "##### Query by contact points\n",
    "\n",
    "We can also directly query for contact points if we want to be more specific. Note that each contact point has a reference to its corresponding electrode via the `.electrode` attribute, so we could get access to neighboring contact points from here as well."
   ]
  },
  {
   "cell_type": "code",
   "execution_count": null,
   "metadata": {},
   "outputs": [],
   "source": [
    "# get all electrode contact points inside the selected region\n",
    "contactpoints = atlas.get_features(siibra.modalities.IEEG_ContactPoint)\n",
    "plotting.view_markers(list(map(coord,contactpoints)),marker_size=3)"
   ]
  },
  {
   "cell_type": "markdown",
   "metadata": {},
   "source": [
    "### 6. Retrieving other types of regional datasets from EBRAINS"
   ]
  },
  {
   "cell_type": "code",
   "execution_count": null,
   "metadata": {},
   "outputs": [],
   "source": [
    "atlas.select_region(\"V1\")\n",
    "features = atlas.get_features(siibra.modalities.EbrainsRegionalDataset)\n",
    "for f in features:\n",
    "    print(f\"- {f.name}\")"
   ]
  },
  {
   "cell_type": "code",
   "execution_count": null,
   "metadata": {},
   "outputs": [],
   "source": []
  }
 ],
 "metadata": {
  "kernelspec": {
   "display_name": "Python 3",
   "language": "python",
   "name": "python3"
  },
  "language_info": {
   "codemirror_mode": {
    "name": "ipython",
    "version": 3
   },
   "file_extension": ".py",
   "mimetype": "text/x-python",
   "name": "python",
   "nbconvert_exporter": "python",
   "pygments_lexer": "ipython3",
   "version": "3.9.1"
  }
 },
 "nbformat": 4,
 "nbformat_minor": 5
}
