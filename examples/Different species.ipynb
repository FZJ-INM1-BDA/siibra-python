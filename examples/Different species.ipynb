{
 "cells": [
  {
   "cell_type": "code",
   "execution_count": null,
   "metadata": {},
   "outputs": [],
   "source": [
    "from os import environ\n",
    "from nilearn import plotting\n",
    "import numpy as np\n",
    "#environ['SIIBRA_CONFIG_GITLAB_PROJECT_TAG']=\"develop\"\n",
    "import siibra"
   ]
  },
  {
   "cell_type": "markdown",
   "metadata": {},
   "source": [
    "# Allen mouse brain atlas"
   ]
  },
  {
   "cell_type": "code",
   "execution_count": null,
   "metadata": {},
   "outputs": [],
   "source": [
    "atlas = siibra.atlases.ALLEN_MOUSE_COMMON_COORDINATE_FRAMEWORK_V3\n",
    "mousetpl = atlas.get_template().fetch()\n",
    "parcellationmap = atlas.get_map()\n",
    "plotting.plot_roi(parcellationmap.fetch(),bg_img=mousetpl,vmax=10000)"
   ]
  },
  {
   "cell_type": "markdown",
   "metadata": {},
   "source": [
    "# Waxholm space atlas of the sprague dawley rat brain"
   ]
  },
  {
   "cell_type": "code",
   "execution_count": null,
   "metadata": {},
   "outputs": [],
   "source": [
    "atlas = siibra.atlases.WAXHOLM_SPACE_ATLAS_OF_THE_SPRAGUE_DAWLEY_RAT_BRAIN\n",
    "waxholmtpl = atlas.get_template().fetch()\n",
    "parcellationmap = atlas.get_map()\n",
    "plotting.plot_roi(parcellationmap.fetch(),bg_img=waxholmtpl,cmap=\"Set1\")"
   ]
  },
  {
   "cell_type": "markdown",
   "metadata": {},
   "source": [
    "# Human brain atlas"
   ]
  },
  {
   "cell_type": "markdown",
   "metadata": {},
   "source": [
    "## MNI space"
   ]
  },
  {
   "cell_type": "code",
   "execution_count": null,
   "metadata": {},
   "outputs": [],
   "source": [
    "atlas = siibra.atlases.MULTILEVEL_HUMAN_ATLAS\n",
    "atlas.select(parcellation=\"julich 2.5\")\n",
    "mni152tpl = atlas.get_template().fetch()\n",
    "parcellationmap = atlas.get_map(siibra.spaces.MNI152_2009C_NONL_ASYM)\n",
    "for img in parcellationmap.fetchall():\n",
    "    plotting.plot_roi(img,bg_img=mni152tpl,cut_coords=[0,0,0],cmap='Set1')"
   ]
  },
  {
   "cell_type": "markdown",
   "metadata": {},
   "source": [
    "## BigBrain space"
   ]
  },
  {
   "cell_type": "code",
   "execution_count": null,
   "metadata": {},
   "outputs": [],
   "source": []
  },
  {
   "cell_type": "code",
   "execution_count": null,
   "metadata": {},
   "outputs": [],
   "source": [
    "reso = 0.64\n",
    "bigbrain = atlas.get_template(siibra.spaces.BIG_BRAIN).fetch(resolution_mm=reso)\n",
    "parcellationmap = atlas.get_map(siibra.spaces.BIG_BRAIN).fetch(resolution_mm=reso)\n",
    "plotting.plot_roi(parcellationmap,bg_img=bigbrain,cut_coords=[0,0,0],cmap='Set1')"
   ]
  }
 ],
 "metadata": {
  "kernelspec": {
   "display_name": "Python 3",
   "language": "python",
   "name": "python3"
  },
  "language_info": {
   "codemirror_mode": {
    "name": "ipython",
    "version": 3
   },
   "file_extension": ".py",
   "mimetype": "text/x-python",
   "name": "python",
   "nbconvert_exporter": "python",
   "pygments_lexer": "ipython3",
   "version": "3.9.1"
  }
 },
 "nbformat": 4,
 "nbformat_minor": 5
}
