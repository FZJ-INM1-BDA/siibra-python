{
 "cells": [
  {
   "cell_type": "code",
   "execution_count": null,
   "id": "7356f741",
   "metadata": {},
   "outputs": [],
   "source": [
    "from nilearn import plotting\n",
    "import numpy as np\n",
    "import siibra"
   ]
  },
  {
   "cell_type": "markdown",
   "id": "dd04581c",
   "metadata": {},
   "source": [
    "# Allen mouse brain atlas"
   ]
  },
  {
   "cell_type": "code",
   "execution_count": null,
   "id": "9e161329",
   "metadata": {},
   "outputs": [],
   "source": [
    "atlas = siibra.atlases['mouse v3']\n",
    "mousetpl = atlas.get_template().fetch()\n",
    "parcellationmap = atlas.get_map().fetch()\n",
    "plotting.plot_roi(parcellationmap,bg_img=mousetpl,vmax=10000)"
   ]
  },
  {
   "cell_type": "markdown",
   "id": "4dcc9ab2",
   "metadata": {},
   "source": [
    "# Waxholm space atlas of the sprague dawley rat brain"
   ]
  },
  {
   "cell_type": "code",
   "execution_count": null,
   "id": "14b37103",
   "metadata": {},
   "outputs": [],
   "source": [
    "atlas = siibra.atlases['waxholm rat']\n",
    "waxholmtpl = atlas.get_template().fetch()\n",
    "parcellationmap = atlas.get_map().fetch()\n",
    "plotting.plot_roi(parcellationmap,bg_img=waxholmtpl,cmap=\"Set1\")"
   ]
  },
  {
   "cell_type": "markdown",
   "id": "0ba085f9",
   "metadata": {},
   "source": [
    "# Human brain atlas"
   ]
  },
  {
   "cell_type": "markdown",
   "id": "302bbad1",
   "metadata": {},
   "source": [
    "## MNI space"
   ]
  },
  {
   "cell_type": "code",
   "execution_count": null,
   "id": "94542ae6",
   "metadata": {},
   "outputs": [],
   "source": [
    "atlas = siibra.atlasesMULTILEVEL_HUMAN_ATLAS\n",
    "mni152tpl = atlas.get_template(\"mni152\").fetch()\n",
    "parcellationmap = atlas.get_map(space=\"mni152\", parcellation=\"julich 2.9\")\n",
    "for img in parcellationmap.fetch_iter():\n",
    "    plotting.plot_roi(img,bg_img=mni152tpl,cut_coords=[0,0,0],cmap='Set1')"
   ]
  },
  {
   "cell_type": "markdown",
   "id": "02c1e45a",
   "metadata": {},
   "source": [
    "## BigBrain space"
   ]
  },
  {
   "cell_type": "code",
   "execution_count": null,
   "id": "522ce332",
   "metadata": {},
   "outputs": [],
   "source": [
    "reso = 0.64\n",
    "bigbrain = atlas.get_template(\"bigbrain\").fetch(resolution_mm=reso)\n",
    "parcellationmap = atlas.get_map(\"bigbrain\").fetch(resolution_mm=reso)\n",
    "plotting.plot_roi(parcellationmap,bg_img=bigbrain,cut_coords=[0,0,0],cmap='Set1')"
   ]
  },
  {
   "cell_type": "code",
   "execution_count": null,
   "id": "b090eab3",
   "metadata": {},
   "outputs": [],
   "source": []
  }
 ],
 "metadata": {
  "kernelspec": {
   "display_name": "Python 3",
   "language": "python",
   "name": "python3"
  },
  "language_info": {
   "codemirror_mode": {
    "name": "ipython",
    "version": 3
   },
   "file_extension": ".py",
   "mimetype": "text/x-python",
   "name": "python",
   "nbconvert_exporter": "python",
   "pygments_lexer": "ipython3",
   "version": "3.9.1"
  }
 },
 "nbformat": 4,
 "nbformat_minor": 5
}
