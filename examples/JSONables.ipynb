{
 "cells": [
  {
   "cell_type": "code",
   "execution_count": null,
   "metadata": {},
   "outputs": [],
   "source": [
    "import siibra\n",
    "from siibra.core.json_encoder import JSONEncoder\n",
    "atlas=siibra.atlases['human']\n",
    "p=atlas.parcellations[0]\n",
    "\n",
    "with JSONEncoder() as handle:\n",
    "    output=handle.get_json(p, detail=True)\n",
    "    import json\n",
    "    with open('./parcellation.json', 'w') as fp:\n",
    "        json.dump(output, indent=2, fp=fp)\n",
    "\n",
    "with JSONEncoder() as handle:\n",
    "    r = p.decode_region('hoc1 left')\n",
    "    output = handle.get_json(r, detail=True, space=siibra.spaces['mni 152'])\n",
    "    with open('./region.json', 'w') as fp:\n",
    "        json.dump(output, indent=2, fp=fp)"
   ]
  }
 ],
 "metadata": {
  "language_info": {
   "name": "python"
  },
  "orig_nbformat": 4
 },
 "nbformat": 4,
 "nbformat_minor": 2
}
